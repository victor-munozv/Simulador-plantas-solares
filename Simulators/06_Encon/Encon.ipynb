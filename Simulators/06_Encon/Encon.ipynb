{
 "cells": [
  {
   "cell_type": "markdown",
   "id": "4da03461",
   "metadata": {},
   "source": [
    "# Simulator PV La_Blanquina\n",
    "\n",
    "- Author: Victor Muñoz\n",
    "- Collaborator: Nicolás Otárola\n",
    "- Pvlib_version: 0.9.0\n",
    "- Date : 17-02-2022 "
   ]
  },
  {
   "cell_type": "code",
   "execution_count": 23,
   "id": "4999f1a5",
   "metadata": {},
   "outputs": [],
   "source": [
    "try:\n",
    "    from urllib.parse import urljoin\n",
    "except ImportError:\n",
    "    from urlparse import urljoin\n",
    "\n",
    "# Request\n",
    "import requests\n",
    "from requests.auth import HTTPBasicAuth\n",
    "# data science\n",
    "import numpy as np\n",
    "import pandas as pd\n",
    "import matplotlib.pyplot as plt\n",
    "\n",
    "# Photovoltaic systems\n",
    "import pvlib\n",
    "from pvlib.pvsystem import PVSystem\n",
    "from pvlib.location import Location\n",
    "from pvlib.modelchain import ModelChain\n",
    "\n",
    "# paths\n",
    "file_path_gen = '../../Data/Real_Generations_Data/'\n",
    "file_path_solcast = '../../Data/Solcast_Data/'\n",
    "file_path_func = '../../Functions/'\n",
    "\n",
    "# functions AND system photovoltaic\n",
    "import sys\n",
    "sys.path.append(file_path_gen)\n",
    "sys.path.append(file_path_solcast)\n",
    "sys.path.append(file_path_func)\n",
    "\n",
    "import functions as func\n",
    "import Encon_config as pv\n",
    "\n",
    "import imp\n",
    "imp.reload(pv)\n",
    "imp.reload(func)\n",
    "\n",
    "# save graphics\n",
    "%matplotlib inline\n",
    "%matplotlib notebook\n",
    "\n",
    "#new library\n",
    "from pvlib.pvsystem import FixedMount\n",
    "from pvlib.temperature import TEMPERATURE_MODEL_PARAMETERS\n",
    "\n",
    "import bokeh as boken\n",
    "from bokeh.plotting import figure, output_file, show\n",
    "import bokeh.palettes as bkpalet #from bokeh.palettes import PuOr\n",
    "import bokeh.transform as bktrans # from bokeh.transform import cumsums"
   ]
  },
  {
   "cell_type": "code",
   "execution_count": 33,
   "id": "7edc7710",
   "metadata": {},
   "outputs": [
    {
     "name": "stdout",
     "output_type": "stream",
     "text": [
      "404 Client Error: Not Found for url: https://api.solcast.com.au/tmy_hourly?latitude=-32.7295&longitude=-70.7374&format=json\n"
     ]
    }
   ],
   "source": [
    "content = {}\n",
    "api_key = 'jVIdJhCmY3LadF9I-H9I2OPTTHd-rnm' \n",
    "end_point = 'tmy_hourly'\n",
    "_BASE_URL = 'https://api.solcast.com.au/'\n",
    "url = urljoin(_BASE_URL, end_point)\n",
    "key = ()\n",
    "params = {'latitude' : -32.7295,\n",
    "         'longitude' : -70.7374}\n",
    "params['format'] = 'json'\n",
    "try:\n",
    "    response = requests.get(url, auth=(api_key, ''), params=params)\n",
    "    response.raise_for_status()\n",
    "    if (response.status_code == 200):\n",
    "        print(\"The request was a success!\")\n",
    "        print(response.status_code)\n",
    "        print(response.url)\n",
    "        print(r.headers)\n",
    "\n",
    "    # Additional code will only run if the request is successful\n",
    "except requests.exceptions.HTTPError as errh:\n",
    "    print(errh)\n",
    "except requests.exceptions.ConnectionError as errc:\n",
    "    print(errc)\n",
    "except requests.exceptions.Timeout as errt:\n",
    "    print(errt)\n",
    "except requests.exceptions.RequestException as err:\n",
    "    print(err)\n",
    " # Attempt to open json from Request connection\n",
    "try:\n",
    "    content = r.json()\n",
    "except:\n",
    "    content = r.content"
   ]
  },
  {
   "cell_type": "code",
   "execution_count": 36,
   "id": "87d91628",
   "metadata": {
    "scrolled": true
   },
   "outputs": [
    {
     "data": {
      "text/plain": [
       "b'<!doctype html> <html lang=\"en\"> <head> <style> .async-hide { opacity: 0 !important } </style> <script>(function (a, s, y, n, c, h, i, d, e) { s.className += \\' \\' + y; h.start = 1 * new Date; h.end = i = function () { s.className = s.className.replace(RegExp(\\' ?\\' + y), \\'\\') }; (a[n] = a[n] || []).hide = h; setTimeout(function () { i(); h.end = null }, c); h.timeout = c; })(window, document.documentElement, \\'async-hide\\', \\'dataLayer\\', 4000, { \\'GTM-WHNBB36\\': true });</script> <meta name=\"viewport\" content=\"width=device-width, initial-scale=1.0\"> <meta charset=\"utf-8\" /> <meta name=\"breakpoint\" content=\"widescreen\" media=\"(min-width: 1440px)\" /> <meta name=\"breakpoint\" content=\"desktop\" media=\"(min-width: 1024px) and (max-width: 1439px)\" /> <meta name=\"breakpoint\" content=\"tablet-wide\" media=\"(min-width: 768px) and (max-width: 1023px)\" /> <meta name=\"breakpoint\" content=\"tablet\" media=\"(min-width: 640px) and (max-width: 767px)\" /> <meta name=\"breakpoint\" content=\"phone-wide\" media=\"(min-width: 450px) and (max-width: 639px)\" /> <meta name=\"breakpoint\" content=\"phone\" media=\"(max-width: 449px)\" /> <meta name=\"breakpoint\" content=\"mobile\" media=\"(max-width: 1023px)\" /> <meta name=\"breakpoint\" content=\"w-1300\" media=\"(max-width: 1300px)\" /> <meta name=\"breakpoint\" content=\"w-1150\" media=\"(max-width: 1150px)\" /> <meta name=\"breakpoint\" content=\"w-900\" media=\"(max-width: 900px)\" /> <title> Solar Forecasting &amp; Solar Irradiance Data </title> <link rel=\"stylesheet\" type=\"text/css\" href=\"/assets/index-28f816044072acd384cb4ab072300f32b99d1a65e798038ab5e3b92cbfbe6e70.css\" integrity=\"sha256-KPgWBEByrNOEy0qwcjAPMrmdGmXnmAOKteO5LL++bnA=\" crossorigin=\"anonymous\"> <link rel=\"canonical\" href=\"https://solcast.com/\" /> <link rel=\"apple-touch-icon\" sizes=\"180x180\" href=\"/apple-touch-icon.png?v=BG7paOO3gk\"> <link rel=\"icon\" type=\"image/png\" sizes=\"32x32\" href=\"/favicon-32x32.png?v=BG7paOO3gk\"> <link rel=\"icon\" type=\"image/png\" sizes=\"16x16\" href=\"/favicon-16x16.png?v=BG7paOO3gk\"> <link rel=\"manifest\" href=\"/site.webmanifest?v=BG7paOO3gk\"> <link rel=\"mask-icon\" href=\"/safari-pinned-tab.svg?v=BG7paOO3gk\" color=\"#1d262c\"> <link rel=\"shortcut icon\" href=\"/favicon.ico?v=BG7paOO3gk\"> <meta name=\"msapplication-TileColor\" content=\"#1d262c\"> <meta name=\"theme-color\" content=\"#1d262c\"> <meta http-equiv=\"X-UA-Compatible\" content=\"IE=edge,chrome=1\" /> <meta name=\"description\" content=\"Solcast provides actual and forecast solar irradiance and power data, globally, using satellites and surface measurements\" /> <meta name=\"google-site-verification\" content=\"aHC44hUOYsesc1q_njZLh4cACcp1DNUHp10NEv2yP38\" /> <meta property=\"twitter:image\" content=\"https://solcast.com/uploads/solcast_og.png\" /> <meta property=\"og:image\" content=\"https://solcast.com/uploads/solcast_og.png\" /> <meta property=\"og:site_name\" content=\"Solcast\" /> <meta property=\"og:url\" content=\"https://solcast.com/\" /> <meta property=\"twitter:url\" content=\"https://solcast.com/\" /> <meta property=\"og:title\" content=\"Solcast - Solar Forecasting & Solar Irradiance Data\" /> <meta property=\"twitter:title\" content=\"Solcast - Solar Forecasting & Solar Irradiance Data\" /> <meta property=\"og:type\" content=\"article\" /> <meta property=\"og:description\" content=\"Solcast provides actual and forecast solar irradiance and power data, globally, using satellite and surface measurements.\" /> <meta property=\"og:image:alt\" content=\"Solcast - Solar Forecasting & Solar Irradiance Data\" /> <meta property=\"twitter:card\" content=\"summary_large_image\" /> <meta property=\"twitter:description\" content=\"Solcast provides actual and forecast solar irradiance and power data, globally, using satellite and surface measurements.\" /> <meta property=\"twitter:image:alt\" content=\"Solcast - Solar Forecasting & Solar Irradiance Data\" /> <script type=\"application/ld+json\"> { \"@context\": \"https://schema.org\", \"@type\": \"Organization\", \"name\": \"Solcast\", \"alternateName\": \"Solcast Solar Forecasting\", \"url\": \"https://solcast.com/\", \"logo\": \"https://solcast.com/assets/solcast-logo-37a26330193cf09e1a65a57339311521ea356b3c5669ccc7400a82e9b173929f.png\", \"sameAs\": [ \"https://www.facebook.com/solcastAPI/\", \"https://twitter.com/solcastAPI\", \"https://www.instagram.com/solcastau/\", \"https://www.youtube.com/channel/UCJFfenM0bYjZ1ICeDtuQjMg\", \"https://www.linkedin.com/company/solcast/\", \"https://www.pinterest.co.uk/solcastau/\", \"https://solcast.com/\" ] } </script> <script defer src=\"https://use.fontawesome.com/releases/v5.7.2/js/all.js\" integrity=\"sha384-0pzryjIRos8mFBWMzSSZApWtPl/5++eIfzYmTgBBmXYdhvxPc+XcFEk+zJwDgWbP\" crossorigin=\"anonymous\"></script> <script>(function (w, d, s, l, i) { w[l] = w[l] || []; w[l].push({ \\'gtm.start\\': new Date().getTime(), event: \\'gtm.js\\' }); var f = d.getElementsByTagName(s)[0], j = d.createElement(s), dl = l != \\'dataLayer\\' ? \\'&l=\\' + l : \\'\\'; j.async = true; j.src = \\'https://www.googletagmanager.com/gtm.js?id=\\' + i + dl; f.parentNode.insertBefore(j, f); })(window, document, \\'script\\', \\'dataLayer\\', \\'GTM-WHNBB36\\'); </script> <script> (function(h,o,t,j,a,r){ h.hj=h.hj||function(){(h.hj.q=h.hj.q||[]).push(arguments)}; h._hjSettings={hjid:1767554,hjsv:6}; a=o.getElementsByTagName(\\'head\\')[0]; r=o.createElement(\\'script\\');r.async=1; r.src=t+h._hjSettings.hjid+j+h._hjSettings.hjsv; a.appendChild(r); })(window,document,\\'https://static.hotjar.com/c/hotjar-\\',\\'.js?sv=\\'); </script> </head> <body data-view-test-account=\"\" data-api-host=\"https://api.solcast.com.au/\"> <noscript><iframe src=\"https://www.googletagmanager.com/ns.html?id=GTM-WHNBB36\" height=\"0\" width=\"0\" style=\"display:none;visibility:hidden\"></iframe></noscript> <header class=\"masthead mx-auto d-flex flex-items-v-center\" role=\"banner\" data-view-navigation-mobile=\\'\\'> <div class=\"masthead__logo\" aria-label=\"Solcast logo\"> <a class=\"masthead__logo-anchor d-block\" href=\"/\" aria-label=\"Link to home page\"> <h1 class=\"hide-visually\">Solar Irradiance Data</h1> </a> </div> <div class=\"masthead__wrapper\"> <nav class=\"nav\" role=\"navigation\" id=\"#navigation\"> <ul class=\"nav__list clearfix\"> <li class=\"nav__list-item fl-left\"> <a href=\"/historical-and-tmy/\" class=\"nav__anchor nav__anchor--has-dropdown\"> Historical and TMY <button class=\"nav__anchor-toggle-dropdown\"> <svg width=\"12\" height=\"8\" viewBox=\"0 0 12 8\" xmlns=\"http://www.w3.org/2000/svg\"><title>Up navigation arrow</title><path d=\"M12 6c0-.071-.028-.127 0 0L6 0c.085-.024-.082-.024 0 0L0 6c-.024-.085-.024.082 0 0l2 2c-.08.024.086.024 0 0l4-4 4 4c-.083.024.084.024 0 0l2-2c-.028.123 0 .068 0 0z\" fill=\"#FFA228\" fill-rule=\"evenodd\"/></svg> <span class=\"hide-visually\">Show/hide products menu</span> </button> </a> <div class=\"nav__dropdown\"> <ul class=\"nav__dropdown-list\"> <li class=\"nav__dropdown-item\"> <a class=\"nav__dropdown-anchor\" href=\"/historical-and-tmy/\">Overview</a> </li> <li class=\"nav__dropdown-item\"> <a class=\"nav__dropdown-anchor\" href=\"/historical-and-tmy/data-and-specifications/\">Data and specifications</a> </li> <li class=\"nav__dropdown-item\"> <a class=\"nav__dropdown-anchor\" href=\"/historical-and-tmy/inputs-and-algorithms/\">Inputs and algorithms</a> </li> <li class=\"nav__dropdown-item\"> <a class=\"nav__dropdown-anchor\" href=\"/historical-and-tmy/validation-and-accuracy/\">Validation and accuracy</a> </li> <li class=\"nav__dropdown-item\"> <a class=\"nav__dropdown-anchor\" href=\"/historical-and-tmy/comparisons/\">Competitor comparisons</a> </li> <li class=\"nav__dropdown-item\"> <a class=\"nav__dropdown-anchor\" href=\"/historical-and-tmy/data-samples/\">Data samples</a> </li> <li class=\"nav__dropdown-item\"> <a class=\"nav__dropdown-anchor\" href=\"/historical-and-tmy/software-integration/\">Software integration</a> </li> <li class=\"nav__dropdown-item\"> <a class=\"nav__dropdown-anchor\" href=\"/historical-and-tmy/publications/\">Publications</a> </li> </ul> </div> </li> <li class=\"nav__list-item fl-left\"> <a href=\"/solar-data-api/\" class=\"nav__anchor nav__anchor--has-dropdown\"> Live and Forecast <button class=\"nav__anchor-toggle-dropdown\"> <svg width=\"12\" height=\"8\" viewBox=\"0 0 12 8\" xmlns=\"http://www.w3.org/2000/svg\"><title>Up navigation arrow</title><path d=\"M12 6c0-.071-.028-.127 0 0L6 0c.085-.024-.082-.024 0 0L0 6c-.024-.085-.024.082 0 0l2 2c-.08.024.086.024 0 0l4-4 4 4c-.083.024.084.024 0 0l2-2c-.028.123 0 .068 0 0z\" fill=\"#FFA228\" fill-rule=\"evenodd\"/></svg> <span class=\"hide-visually\">Show/hide products menu</span> </button> </a> <div class=\"nav__dropdown\"> <ul class=\"nav__dropdown-list\"> <li class=\"nav__dropdown-item\"> <a class=\"nav__dropdown-anchor\" href=\"/solar-data-api/\">Overview</a> </li> <li class=\"nav__dropdown-item\"> <a class=\"nav__dropdown-anchor\" href=\"/solar-radiation-data/inputs-and-algorithms/\">Inputs and algorithms</a> </li> <li class=\"nav__dropdown-item\"> <a class=\"nav__dropdown-anchor\" href=\"/solar-forecasting/validation-and-accuracy/\">Forecast Accuracy</a> </li> <li class=\"nav__dropdown-item\"> <a class=\"nav__dropdown-anchor\" href=\"/solar-radiation-data/\">Solar Irradiance Data</a> </li> <li class=\"nav__dropdown-item\"> <a class=\"nav__dropdown-anchor\" href=\"/utility-scale-solar/\">Utility Scale</a> </li> <li class=\"nav__dropdown-item\"> <a class=\"nav__dropdown-anchor\" href=\"/rooftop-solar/\">Rooftop PV Forecasts</a> </li> <li class=\"nav__dropdown-item\"> <a class=\"nav__dropdown-anchor\" href=\"/grid-aggregations/\">Grid Aggregations</a> </li> </ul> </div> </li> <li class=\"nav__list-item fl-left\"> <a href=\"/solar-data-api/api-toolkit/\" class=\"nav__anchor nav__anchor--has-dropdown\"> API Toolkit <button class=\"nav__anchor-toggle-dropdown\"> <svg width=\"12\" height=\"8\" viewBox=\"0 0 12 8\" xmlns=\"http://www.w3.org/2000/svg\"><title>Up navigation arrow</title><path d=\"M12 6c0-.071-.028-.127 0 0L6 0c.085-.024-.082-.024 0 0L0 6c-.024-.085-.024.082 0 0l2 2c-.08.024.086.024 0 0l4-4 4 4c-.083.024.084.024 0 0l2-2c-.028.123 0 .068 0 0z\" fill=\"#FFA228\" fill-rule=\"evenodd\"/></svg> <span class=\"hide-visually\">Show/hide products menu</span> </button> </a> <div class=\"nav__dropdown\"> <ul class=\"nav__dropdown-list\"> <li class=\"nav__dropdown-item\"> <a class=\"nav__dropdown-anchor\" href=\"/solar-data-api/api-toolkit/\">Overview</a> </li> <li class=\"nav__dropdown-item\"> <a class=\"nav__dropdown-anchor\" href=\"/solar-data-api/api/\">API Documentation</a> </li> <li class=\"nav__dropdown-item\"> <a class=\"nav__dropdown-anchor\" href=\"https://status.solcast.com.au/\">API Status</a> </li> <li class=\"nav__dropdown-item\"> <a class=\"nav__dropdown-anchor\" href=\"https://toolkit.solcast.com.au/register\">Free Registration</a> </li> </ul> </div> </li> <li class=\"nav__list-item fl-left\"> <a href=\"/pricing/\" class=\"nav__anchor\"> Pricing </a> </li> <li class=\"nav__list-item fl-left\"> <a href=\"/frequently-asked-questions/\" class=\"nav__anchor nav__anchor--has-dropdown\"> Resources <button class=\"nav__anchor-toggle-dropdown\"> <svg width=\"12\" height=\"8\" viewBox=\"0 0 12 8\" xmlns=\"http://www.w3.org/2000/svg\"><title>Up navigation arrow</title><path d=\"M12 6c0-.071-.028-.127 0 0L6 0c.085-.024-.082-.024 0 0L0 6c-.024-.085-.024.082 0 0l2 2c-.08.024.086.024 0 0l4-4 4 4c-.083.024.084.024 0 0l2-2c-.028.123 0 .068 0 0z\" fill=\"#FFA228\" fill-rule=\"evenodd\"/></svg> <span class=\"hide-visually\">Show/hide products menu</span> </button> </a> <div class=\"nav__dropdown\"> <ul class=\"nav__dropdown-list\"> <li class=\"nav__dropdown-item\"> <a class=\"nav__dropdown-anchor\" href=\"/frequently-asked-questions/\">FAQ</a> </li> <li class=\"nav__dropdown-item\"> <a class=\"nav__dropdown-anchor\" href=\"/solar-data-api/enterprise-solutions/\">Enterprise Solutions</a> </li> <li class=\"nav__dropdown-item\"> <a class=\"nav__dropdown-anchor\" href=\"/solar-data-api/api/terms-and-conditions/\">Terms of Use</a> </li> <li class=\"nav__dropdown-item\"> <a class=\"nav__dropdown-anchor\" href=\"https://forums.solcast.com.au/\">Forum</a> </li> </ul> </div> </li> <li class=\"nav__list-item fl-left\"> <a href=\"/blog/\" class=\"nav__anchor\">Blog</a> </li> <li class=\"nav__list-item fl-left\"> <a href=\"#\" class=\"nav__anchor nav__anchor--has-dropdown\"> Free Tools <button class=\"nav__anchor-toggle-dropdown\"> <svg width=\"12\" height=\"8\" viewBox=\"0 0 12 8\" xmlns=\"http://www.w3.org/2000/svg\"><title>Up navigation arrow</title><path d=\"M12 6c0-.071-.028-.127 0 0L6 0c.085-.024-.082-.024 0 0L0 6c-.024-.085-.024.082 0 0l2 2c-.08.024.086.024 0 0l4-4 4 4c-.083.024.084.024 0 0l2-2c-.028.123 0 .068 0 0z\" fill=\"#FFA228\" fill-rule=\"evenodd\"/></svg> <span class=\"hide-visually\">Show/hide products menu</span> </button> </a> <div class=\"nav__dropdown\"> <ul class=\"nav__dropdown-list\"> <li class=\"nav__dropdown-item\"> <a class=\"nav__dropdown-anchor\" href=\"/solar-radiation-map/\">Solar Radiation Maps</a> </li> <!-- <li class=\"nav__dropdown-item\"> <a class=\"nav__dropdown-anchor\" href=\"#\">Globe Demo</a> </li> --> <li class=\"nav__dropdown-item\"> <a class=\"nav__dropdown-anchor\" href=\"/rooftop-solar/free-pv-system-performance-estimation-tool/\">PV Performance Checker</a> </li> <li class=\"nav__dropdown-item\"> <a class=\"nav__dropdown-anchor\" href=\"/worldwide-solar-irradiance-data-api/\">World Solar Radiation Demo</a> </li> <li class=\"nav__dropdown-item\"> <a class=\"nav__dropdown-anchor\" href=\"/global-pv-power-solar-api/\">World PV Power Demo</a> </li> <li class=\"nav__dropdown-item\"> <a class=\"nav__dropdown-anchor\" href=\"/free-rooftop-solar-forecasting/\">Home PV System Forecasts</a> </li> <li class=\"nav__dropdown-item\"> <a class=\"nav__dropdown-anchor\" href=\"/solar-data-api/free-solar-radiation-historical-and-forecasting-data-for-researchers/\">Data for Researchers</a> </li> <!-- <li class=\"nav__dropdown-item\"> <a class=\"nav__dropdown-anchor\" href=\"#\">Home Solar Forecasts</a> </li> --> </ul> </div> </li> </ul> </nav> <div class=\"masthead__buttons flex-right\"> <a class=\"masthead__sign-in-link login_link_header\" href=\"https://toolkit.solcast.com.au/\">Sign in</a> <a href=\"/about-us/#contact\" class=\"button button--alt masthead__request-demo-link\">Contact us</a> <a id=\"signup-header\" class=\"button masthead__register-link register_link_header\" href=\"https://toolkit.solcast.com.au/register\">Try it now</a> </div> </div> <div class=\"masthead__toggles\"> <button class=\"masthead__toggle masthead__toggle--menu\"> <svg width=\"21\" height=\"18\" viewBox=\"0 0 21 18\" xmlns=\"http://www.w3.org/2000/svg\"> <title>Menu icon</title> <path d=\"M20.571 14.571v1.715a.863.863 0 0 1-.857.857H.857A.863.863 0 0 1 0 16.286V14.57c0-.468.388-.857.857-.857h18.857c.47 0 .857.389.857.857zm0-6.857V9.43a.863.863 0 0 1-.857.857H.857A.863.863 0 0 1 0 9.429V7.714c0-.468.388-.857.857-.857h18.857c.47 0 .857.389.857.857zm0-6.857v1.714a.863.863 0 0 1-.857.858H.857A.863.863 0 0 1 0 2.57V.857C0 .388.388 0 .857 0h18.857c.47 0 .857.388.857.857z\" fill=\"#FFF\" fill-rule=\"evenodd\" /> </svg> <span class=\"hide-visually\">Toggle the menu</span> </button> <button class=\"masthead__toggle masthead__toggle--close\"> <svg width=\"17\" height=\"17\" viewBox=\"0 0 17 17\" xmlns=\"http://www.w3.org/2000/svg\"> <title>Close icon</title> <path d=\"M17 15.628L15.628 17 8.494 9.866 1.36 17 0 15.628l7.134-7.134L0 1.36 1.36 0l7.134 7.134L15.628 0 17 1.36 9.866 8.494z\" fill=\"#FFF\" fill-rule=\"evenodd\" /> </svg> <span class=\"hide-visually\">Close the menu</span> </button> </div> </header> <section class=\"main\" role=\"main\" id=\"main-content\"> <!-- intro --> <div class=\"home_section home_section--first grid-wrapper clearfix\"> <div class=\"grid-row\"> <div class=\"grid-col grid-col--6 tb-grid-col--12 ph-grid-col--12 grid-col--bottom-flush\"> <h3 class=\"home__intro-heading large-heading\"> Need solar data or forecasts? We\\xe2\\x80\\x99ve got the world covered </h3> <h2 class=\"home__intro-subheading subtitle-heading mb-large\"> Solar resource assessment and forecasting data for irradiance and PV power. Created using a global fleet of weather satellites. Independently validated. Free to try. Access our data in just a few minutes with the Solcast API Toolkit. </h2> </div> <div class=\"grid-col grid-col--6 tb-grid-col--12 ph-grid-col--12 grid-col--bottom-flush\"> <a href=\"/solar-radiation-map/\" class=\"mb-large\"> <video id=\"latestVideo\" class=\"w-100\" playsinline=\"\" disablepictureinpicture=\"\" muted=\"\" autoplay=\"\" loop=\"\" preload=\"metadata\" poster=\"\" src=\"\"> Your browser does not support HTML5 video. </video> <script> var now = new Date; var utc_timestamp = Date.UTC(now.getUTCFullYear(),now.getUTCMonth(), now.getUTCDate(), now.getUTCHours()); var video = document.getElementById(\"latestVideo\"); video.src = \"https://media.solcast.com/latest/global/1280x720.mp4?time=\" + utc_timestamp; video.poster = \"https://media.solcast.com/latest/global/1280x720.0000000.jpg?time=\" + utc_timestamp; </script> <p class=\"small t-center\">Yesterday\\'s global solar irradiance map</p> </a> </div> </div> <div class=\"grid-row\"> <div class=\"grid-col grid-col--12 grid-col--bottom-flush\"> <div class=\"home__intro-buttons\"> <div> <a href=\"/solar-data-api/\" class=\"button button--alt2 mb-small mr-xsmall\">Live and Forecast</a> <a href=\"/historical-and-tmy/\" class=\"button button--alt2 mb-small mr-xsmall\">Historical and TMY</a> </div> <a id=\"signup-homepage\" href=\"https://toolkit.solcast.com.au/register\" class=\"button try-it-now-button\">Create Your Free API Toolkit Account</a> </div> </div> </div> </div> <!-- hemo --> <div class=\"home_section grid-wrapper clearfix\"> <div class=\"grid-row\"> <div class=\"grid-col grid-col--12 grid-col--bottom-flush\"> <div id=\"hero-slideshow\" data-view-hero-slideshow=\"\"> <div class=\"hero\" data-id=\"1\"> <a href=\"/solar-forecasting/validation-and-accuracy/\"> <div> <h2 class=\"large-heading\">Know how accurate our forecasts are, where you are</h2> <p> Try our web-based forecasting accuracy tool to get started. API Toolkit users receive real-time accuracy reporting, localised to your site. </p> <img src=\"/uploads/homepage-hero-site-accuracy-tool.png\" alt=\"Site accuracy tool screenshot\" /> </div> </a> </div> <div class=\"hero\" data-id=\"2\" style=\"display: none;\"> <a href=\"/historical-and-tmy/comparisons/\"> <div> <h2 class=\"large-heading\">Solcast\\xe2\\x80\\x99s solar irradiance data stands out from the competition</h2> <p> 3D cloud modelling, aerosol tracking and state of the art solar radiation models. We beat the other guys. </p> <img src=\"/uploads/homepage-hero-competitor-stats.png\" alt=\"Solar irradiance data stats\" /> </div> </a> </div> <div class=\"hero\" data-id=\"3\" style=\"display: none;\"> <a href=\"/historical-and-tmy/\"> <div> <h2 class=\"large-heading\">Free solar resource assessment data for every new user</h2> <p> Historical Time Series solar irradiance and meteo data. Available in PVSyst, TMY3 and SAM formats. </p> <img src=\"/uploads/homepage-hero-solar-radiation-map.png\" alt=\"Solar irradiance map\" /> </div> </a> </div> <div class=\"hero\" data-id=\"4\" style=\"display: none;\"> <a href=\"/solar-data-api/api-toolkit/\"> <div> <h2 class=\"large-heading\">Our API Toolkit makes creating your own solar forecast easy and straightforward</h2> <p> Create your test site in just a few clicks. Try out our World Solar API to grab data from around the world. Submit a historical order and download your data in just minutes. </p> <video playsinline=\"\" disablepictureinpicture=\"\" muted=\"\" loop=\"\" preload=\"metadata\" src=\"https://media.solcast.com/assets/solcast-api-toolkit-create-site.mp4\"> Your browser does not support HTML5 video. </video> </div> </a> </div> <div class=\"button-container\"> <span class=\"active\" data-id=\"1\"></span> <span data-id=\"2\"></span> <span data-id=\"3\"></span> <span data-id=\"4\"></span> </div> </div> </div> </div> </div> <!-- social proof --> <div class=\"home_section grid-wrapper clearfix\"> <div class=\"grid-row\"> <div class=\"grid-col grid-col--12 grid-col--bottom-flush\"> <div class=\"home__customers pb-large\"> <h2 class=\"large-heading\">We deliver operational solar data services around the world to over 17,000+ users</h2> <p> Solcast is trusted by a rapidly growing list of enterprise clients across the globe, and operates a global network of high-profile partnerships to deliver 24/7 support and bespoke contracts. </p> <div class=\"grid-row clearfix\"> <div class=\"grid-col grid-col--8 tb-grid-col--12 ph-grid-col--12 grid-col--bottom-flush\"> <div id=\"customer-map\" class=\"map1\"> <span class=\"cspot cspot0 active\" data-id=\"0\"></span> <span class=\"cspot cspot1\" data-id=\"1\"></span> <span class=\"cspot cspot2\" data-id=\"2\"></span> <span class=\"cspot cspot3\" data-id=\"3\"></span> <span class=\"cspot cspot4\" data-id=\"4\"></span> <span class=\"cspot cspot5\" data-id=\"5\"></span> <span class=\"cspot cspot6\" data-id=\"6\"></span> <span class=\"cspot cspot7\" data-id=\"7\"></span> <span class=\"cspot cspot8\" data-id=\"8\"></span> <span class=\"cspot cspot9\" data-id=\"9\"></span> <span class=\"cspot cspot10\" data-id=\"10\"></span> </div> </div> <div class=\"grid-col grid-col--4 tb-grid-col--12 ph-grid-col--12 grid-col--bottom-flush\"> <div class=\"customer-container\"> <p class=\"title\">Selected customer profiles:</p> <div class=\"customer\" data-id=\"0\"> <div class=\"logo\"></div> <h4>EPRI</h4> <table> <tr><td>Headquarters:</td><td>Palo Alto, California</td></tr> <tr><td nowrap=\"\">Core business:</td><td>Energy research and development</td></tr> <tr><td>Employees:</td><td>&gt;1,000</td></tr> </table> </div> <div class=\"customer\" data-id=\"1\" style=\"display: none;\"> <div class=\"logo\"></div> <h4>First Solar</h4> <table> <tr><td>Headquarters:</td><td>Tempe, Arizona, USA</td></tr> <tr><td nowrap=\"\">Core business:</td><td>Global solar project development and operations</td></tr> <tr><td>Employees:</td><td>&gt;4000</td></tr> </table> </div> <div class=\"customer\" data-id=\"2\" style=\"display: none;\"> <div class=\"logo\"></div> <h4>Duke Energy</h4> <table> <tr><td>Headquarters:</td><td>Charlotte, North Carolina</td></tr> <tr><td nowrap=\"\">Core business:</td><td>Fortune 150 Company; Electrical utility with &gt;7.7M customers</td></tr> <tr><td>Employees:</td><td>&gt;28,000</td></tr> </table> </div> <div class=\"customer\" data-id=\"3\" style=\"display: none;\"> <div class=\"logo\"></div> <h4>Wirsol</h4> <table> <tr><td>Headquarters:</td><td>United Kingdom</td></tr> <tr><td nowrap=\"\">Core business:</td><td>Solar farm development</td></tr> <tr><td>Employees:</td><td>14</td></tr> </table> </div> <div class=\"customer\" data-id=\"4\" style=\"display: none;\"> <div class=\"logo\"></div> <h4>Neoen</h4> <table> <tr><td>Headquarters:</td><td>Paris, France</td></tr> <tr><td nowrap=\"\">Core business:</td><td>Global solar project development and operation</td></tr> <tr><td>Employees:</td><td>&gt;100</td></tr> </table> </div> <div class=\"customer\" data-id=\"5\" style=\"display: none;\"> <div class=\"logo\"></div> <h4>RINA</h4> <table> <tr><td>Headquarters:</td><td>Genoa, Italy</td></tr> <tr><td nowrap=\"\">Core business:</td><td>Engineering and consultancy, testing, inspection and certification services</td></tr> <tr><td>Employees:</td><td>&gt;3,000</td></tr> </table> </div> <div class=\"customer\" data-id=\"6\" style=\"display: none;\"> <div class=\"logo\"></div> <h4>Enel</h4> <table> <tr><td>Headquarters:</td><td>Rome, Italy</td></tr> <tr><td nowrap=\"\">Core business:</td><td>Multinational energy company</td></tr> <tr><td>Employees:</td><td>&gt;60,000</td></tr> </table> </div> <div class=\"customer\" data-id=\"7\" style=\"display: none;\"> <div class=\"logo\"></div> <h4>Meteocontrol GmbH</h4> <table> <tr><td>Headquarters:</td><td>Augsburg, Germany</td></tr> <tr><td nowrap=\"\">Core business:</td><td>Global PV monitoring and analytics</td></tr> <tr><td>Employees:</td><td>&gt;100</td></tr> </table> </div> <div class=\"customer\" data-id=\"8\" style=\"display: none;\"> <div class=\"logo\"></div> <h4>Adani</h4> <table> <tr><td>Headquarters:</td><td>Ahmedabad, India</td></tr> <tr><td nowrap=\"\">Core business:</td><td>Energy and infrastructure company</td></tr> <tr><td>Employees:</td><td>&gt;10,000</td></tr> </table> </div> <div class=\"customer\" data-id=\"9\" style=\"display: none;\"> <div class=\"logo\"></div> <h4>Vietnam Electricity (EVN)</h4> <table> <tr><td>Headquarters:</td><td>Hanoi, Vietnam</td></tr> <tr><td nowrap=\"\">Core business:</td><td>National system operator in Vietnam</td></tr> <tr><td>Employees:</td><td>&gt;100,000</td></tr> </table> </div> <div class=\"customer\" data-id=\"10\" style=\"display: none;\"> <div class=\"logo\"></div> <h4>Australian Energy Market Operator (AEMO)</h4> <table> <tr><td>Headquarters:</td><td>Melbourne, Australia</td></tr> <tr><td nowrap=\"\">Core business:</td><td>National system operator in Australia</td></tr> <tr><td>Employees:</td><td>&gt;1,000</td></tr> </table> </div> </div> <div class=\"customer-button-container\"> <span class=\"cbut active\" data-id=\"0\"></span> <span class=\"cbut\" data-id=\"1\"></span> <span class=\"cbut\" data-id=\"2\"></span> <span class=\"cbut\" data-id=\"3\"></span> <span class=\"cbut\" data-id=\"4\"></span> <span class=\"cbut\" data-id=\"5\"></span> <span class=\"cbut\" data-id=\"6\"></span> <span class=\"cbut\" data-id=\"7\"></span> <span class=\"cbut\" data-id=\"8\"></span> <span class=\"cbut\" data-id=\"9\"></span> <span class=\"cbut\" data-id=\"10\"></span> </div> </div> </div> </div> <div class=\"landing-feature-wide t-center clearfix\"> <a href=\"/solar-data-api/enterprise-solutions/\"><h2 class=\"subtitle-heading c-light-orange t-center mb-medium\">Global Enterprise Partnerships</h2></a> <div class=\"grid-row clearfix mb-large\"> <div class=\"grid-col grid-col--3 tb-grid-col--6 ph-grid-col--12 t-center grid-col--bottom-flush\"> <h2 class=\"c-light-orange mb-small\">North America, China, Vietnam</h2> <img alt=\"AccuWeather\" src=\"/assets/accuweather-efa4fe089230783e7cf8ea2c5d9186706e295044063bcc434db4c065b7f39c4b.png\" integrity=\"sha256-76T+CJIweD58+OosXZGGcG4pUEQGO8xDTbTAZbfznEs=\" crossorigin=\"anonymous\" /> </div> <div class=\"grid-col grid-col--3 tb-grid-col--6 ph-grid-col--12 t-center grid-col--bottom-flush\"> <h2 class=\"c-light-orange mb-small\">Australia</h2> <img alt=\"WeatherZone\" src=\"/assets/weatherzone-44a9ec64d7de2041a8d130bab762e86af0ec3d9e8e7c8e68fb1996d1eb7844dd.png\" integrity=\"sha256-RKnsZNfeIEGo0TC6t2LoavDsPZ6OfI5o+xmW0et4RN0=\" crossorigin=\"anonymous\" /> </div> <div class=\"grid-col grid-col--3 tb-grid-col--6 ph-grid-col--12 t-center grid-col--bottom-flush\"> <h2 class=\"c-light-orange mb-small\">South America</h2> <img alt=\"ClimaTempo\" src=\"/assets/climatempo-c9f77c54a8b75e14956e1a9c5284b7bdc444b8de9afc17dfdacf593ede9c41be.png\" integrity=\"sha256-yfd8VKi3XhSVbhqcUoS3vcREuN6a/Bff2s9ZPt6cQb4=\" crossorigin=\"anonymous\" /> </div> <div class=\"grid-col grid-col--3 tb-grid-col--6 ph-grid-col--12 t-center grid-col--bottom-flush\"> <h2 class=\"c-light-orange mb-small\">Taiwan</h2> <img alt=\"WeatherRisk\" src=\"/assets/weatherrisk-394b96c43cb4b8ba5c060ed8008bb7647c6d4157d3abd3c75bd7389d44af623d.png\" integrity=\"sha256-OUuWxDy0uLpcBg7YAIu3ZHxtQVfTq9PHW9c4nUSvYj0=\" crossorigin=\"anonymous\" /> </div> </div> <h2 class=\"subtitle-heading c-light-orange t-center mb-small\">Featured in</h2> <div class=\"grid-row clearfix\"> <div class=\"grid-col grid-col--3 tb-grid-col--6 ph-grid-col--12 t-center grid-col--bottom-flush\"> <img alt=\"PV Tech\" src=\"/assets/pvtech-8ec987cfb4a90a5606db381b85c9d4cee2dd3d6914989d8995cc450f16b42089.png\" integrity=\"sha256-jsmHz7SpClYG2zgbhcnUzuLdPWkUmJ2JlcxFDxa0IIk=\" crossorigin=\"anonymous\" /> </div> <div class=\"grid-col grid-col--3 tb-grid-col--6 ph-grid-col--12 t-center grid-col--bottom-flush\"> <img alt=\"Solar Industry Magazine\" src=\"/assets/solar-industry-f486e05c2b92b36396e2626519c24e958fad3e5094f6f7477f1f29d9fc3699fd.png\" integrity=\"sha256-9IbgXCuSs2OW4mJlGcJOlY+tPlCU9vdHfx8p2fw2mf0=\" crossorigin=\"anonymous\" /> </div> <div class=\"grid-col grid-col--3 tb-grid-col--6 ph-grid-col--12 t-center grid-col--bottom-flush\"> <img alt=\"Utility Magazine\" src=\"/assets/utility-magazine-dfeb889e7a32bda466a4c2855dde5f4005a1a5aa51416b9d551bb53cf40167c6.png\" integrity=\"sha256-3+uInnoyvaRmpMKFXd5fQAWhpapRQWudVRu1PPQBZ8Y=\" crossorigin=\"anonymous\" /> </div> <div class=\"grid-col grid-col--3 tb-grid-col--6 ph-grid-col--12 t-center grid-col--bottom-flush\"> <img alt=\"Energy Magazine\" src=\"/assets/energy-magazine-8fec751d22231c61f0d5d1553bfb7787fbf327c27c03396048467bbab210989a.png\" integrity=\"sha256-j+x1HSIjHGHw1dFVO/t3h/vzJ8J8AzlgSEZ7urIQmJo=\" crossorigin=\"anonymous\" /> </div> </div> </div> </div> </div> </div> <!-- cta --> <div class=\"home_section grid-wrapper clearfix\"> <div class=\"grid-row\"> <div class=\"grid-col grid-col--12 grid-col--bottom-flush text-center\"> <h2 class=\"large-heading\"> Solar data services in support of every solar mission </h2> <p>We\\xe2\\x80\\x99re dedicated to helping you get the job done. Learn more about our offerings and technology by selecting the most relevant topic area for you:</p> <div class=\"home__intro-buttons mt-large\"> <a href=\"/solar-data-api/\" class=\"button button--alt mr-xsmall mb-small\">Live &amp; forecast data</a> <a href=\"/historical-and-tmy/\" class=\"button button--alt mr-xsmall mb-small\">Historical and TMY data</a> <a href=\"/solar-data-api/enterprise-solutions/\" class=\"button button--alt mr-xsmall mb-small\">Enterprise Services</a> <a href=\"/solar-data-api/free-solar-radiation-historical-and-forecasting-data-for-researchers/\" class=\"button button--alt mr-xsmall mb-small\">Support for Researchers</a><br /> <a id=\"signup-homepage\" href=\"https://toolkit.solcast.com.au/register\" class=\"button try-it-now-button mr-xsmall\">Create your free account</a> </div> </div> </div> </div> <!-- features --> <div class=\"home_section grid-wrapper clearfix\"> <div class=\"grid-row\"> <div class=\"grid-col grid-col--12 grid-col--bottom-flush\"> <h2 class=\"large-heading\"> Solar data services\\xe2\\x80\\xa6 in the cloud </h2> <p>We built a new approach to solar forecasting and modeling technology from the ground up, using the latest in weather satellite imagery, machine learning, computer vision and big databases. We crunch more than 600 million new forecasts every hour in a cloud-based environment on AWS and provide real-time access to our data via API. Use the API Toolkit to access nearly 20 years of historical data, including TMY and Monthly Averages files.</p> </div> </div> <div class=\"grid-row\"> <div class=\"grid-col grid-col--6 ph-grid-col--12 grid-col--bottom-flush\"> <a href=\"/solar-data-api/\"><h3 class=\"subtitle-heading c-white mb-small\">Live &amp; Forecast Data</h3></a> <ul> <li>Solar irradiance data (GHI, DNI, Diffuse)</li> <li>PV power modelling (Rooftop or Utility Scale)</li> <li>Global coverage (all six major continents) at 1-2km resolution</li> <li>Rapid update (new forecasting data every 5-15 minutes)</li> <li>Proprietary cloud &amp; aerosol detection (tracking smoke, dust, haze)</li> <li>Probabilistic forecasting outputs</li> <li>From 5 minutes through 7 days ahead at 5/10/15/30 minute resolution</li> <li>Delivered via REST API (download CSV, JSON or XML)</li> </ul> </div> <div class=\"grid-col grid-col--6 ph-grid-col--12 grid-col--bottom-flush\"> <a href=\"/historical-and-tmy/\"><h3 class=\"subtitle-heading c-white mb-small\">Historical and TMY Data</h3></a> <ul> <li>Lowest uncertainty available, zero bias</li> <li>Independent validation &amp; global coverage</li> <li>Highest-resolution data (1-2km), available from 2007 to present</li> <li>PV modelling software integration (PVSyst, SAM, TMY3, CSV)</li> <li>Solar irradiance (GHI, DNI, DHI)</li> <li>Weather (Temp, Wind, Humidity, Snow, etc)</li> <li>Includes aerosol impacts (tracking of smoke, dust, haze)</li> <li>Flexible pricing, no forced subscriptions</li> </ul> </div> </div> </div> <!-- demo --> <div class=\"home_section grid-wrapper clearfix\"> <div class=\"grid-row\"> <div class=\"grid-col grid-col--12 grid-col--bottom-flush text-center\"> <h2 class=\"large-heading\"> API Toolkit Preview - World Solar Radiation API </h2> <p>See our API data in action. Drop a pin on any major continent and instantly see the latest live and forecast solar irradiance data for that location. </p> <div id=\"radiation_map_demo\"> <div class=\"map clearfix\" data-view-radiation-map=\"\" data-api-host=\"https://api.solcast.com.au/\"> <div class=\"map__left\"> <button class=\"map__geolocate-button button\">Find my location</button> <div id=\"myradiationmap\" style=\"width:100%;height:470px;z-index:999;\"></div> </div> <div class=\"map__right\"> <div id=\"radChart\"> <iframe title=\"Map\" class=\"map__embed\" id=\"mapRadResult\" style=\"width:100%;height:440px;border: none;background-color:#2a353c;\"></iframe> </div> <input id=\"longitude\" alt=\"longitude\" type=\"hidden\" min=\"-180\" max=\"180\" maxlength=\"11\" /> <input id=\"latitude\" alt=\"latitude\" type=\"hidden\" min=\"-90\" max=\"90\" maxlength=\"10\" /> </div> </div> </div> </div> </div> </div> <!-- cta --> <div class=\"home_section grid-wrapper clearfix\"> <div class=\"grid-row\"> <div class=\"grid-col grid-col--12 grid-col--bottom-flush text-center\"> <h2 class=\"large-heading mb-2\"> Access state of the art solar forecasting technology and the lowest uncertainty historical irradiance data available, all in our API Toolkit </h2> <img alt=\"Solcast API Toolkit\" class=\"logo\" src=\"/assets/solcast_logo_api_toolkit-f91afc651a2c4305111abd5b365662cf97dda8686f7fa38e398c5bafa471f243.png\" integrity=\"sha256-+Rr8ZRosQwURGr1bNlZiz5fdqGhvf6OOOYxbr6Rx8kM=\" crossorigin=\"anonymous\" /> <p>API Toolkit accounts are free to create and provide instant access. Our Free Tier access will allow you to create a free forecasting site, sample our API data and download solar resource assessment files.</p> <p> New registrations include 10 free API requests per day and historical requests. No credit card or commitment required. Just instant access to the latest high quality, high resolution solar irradiance and PV power data, wherever and whenever you need it. </p> <div class=\"home__intro-buttons mt-large\"> <a id=\"signup-homepage\" href=\"https://toolkit.solcast.com.au/register\" class=\"button try-it-now-button mr-xsmall\">Create your free account</a> <a href=\"/pricing/\" class=\"button button--alt mr-xsmall\">View Pricing Page</a> </div> </div> </div> </div> <!-- news --> <div class=\"grid-wrapper clearfix\"> <div class=\"grid-row\"> <div class=\"grid-col grid-col--12 grid-col--bottom-flush\"> <div class=\"home__news\"> <h2 class=\"home__news-heading large-heading\"> <a href=\"/blog/\" class=\"c-light-orange\">News</a> </h2> <div class=\"home__news-items clearfix\"> <div class=\"home__news-item\"> <a class=\"home__news-anchor\" href=\"/huge-improvement-in-day-ahead-solar-irradiance-and-power-forecasts-goes-live/\"> <h3 class=\"home__news-title c-white\">Huge improvement in day-ahead solar irradiance and power forecasts goes live</h3> <p class=\"home__news-copy\">Solcast day-ahead irradiance and power forecasts are now improved by 15% to 35%</p> <span class=\"home__news-read-more\">Read more</span> </a> </div> <div class=\"home__news-item\"> <a class=\"home__news-anchor\" href=\"/historical-and-tmy/solcast-integrates-with-nrel-sam/\"> <h3 class=\"home__news-title c-white\">Solcast integrates with NREL SAM</h3> <p class=\"home__news-copy\">Solcast API Toolkit users can now access Solcast TMY data directly from within SAM through the use of a new software script. This script is available on GitHub. This short tutorial will show you how to import and use Solcast TMY data. </p> <span class=\"home__news-read-more\">Read more</span> </a> </div> <div class=\"home__news-item\"> <a class=\"home__news-anchor\" href=\"/historical-and-tmy/solar-irradiance-weather-data-time-series/\"> <h3 class=\"home__news-title c-white\">Updates to Time Series Data Access and Pricing</h3> <p class=\"home__news-copy\">We have updated our Time Series data access to a monthly subscription model. This means no lock-in contracts, and also means we\\'ve introduced a new four tier system, so you can match a suitable price with your unique requirements. </p> <span class=\"home__news-read-more\">Read more</span> </a> </div> </div> </div> </div> </div> </div> </section> <footer class=\"footer\" role=\"contentinfo\"> <div class=\"grid-wrapper clearfix\"> <div class=\"grid-row\"> <div class=\"grid-col grid-col--10 tb-grid-col--12 ph-grid-col--12 grid-col--bottom-flush\"> <div class=\"footer__nav-lists d-flex\"> <ul class=\"footer-nav\"> <li class=\"footer__nav-item mb-xsmall\"> <a href=\"/solar-radiation-data/\" class=\"caps-heading t-main\">Products</a> </li> <li class=\"footer__nav-item\"> <a href=\"/historical-and-tmy/tmy/\">TMY</a> </li> <li class=\"footer__nav-item\"> <a href=\"/historical-and-tmy/time-series/\">Time Series</a> </li> <li class=\"footer__nav-item\"> <a href=\"/historical-and-tmy/monthly-averages/\">Monthly Averages</a> </li> <li class=\"footer__nav-item\"> <a href=\"/solar-radiation-data/\">Solar Irradiance Data</a> </li> <li class=\"footer__nav-item\"> <a href=\"/utility-scale-solar/\">Utility Scale</a> </li> <li class=\"footer__nav-item\"> <a href=\"/rooftop-solar/\">Rooftop PV Forecasts</a> </li> <li class=\"footer__nav-item\"> <a href=\"/grid-aggregations/\">Grid Aggregations</a> </li> <li class=\"footer__nav-item\"> <a href=\"/historical-and-tmy/\">Historical and TMY</a> </li> </ul> <ul class=\"footer-nav\"> <li class=\"footer__nav-item mb-xsmall\"> <a href=\"/pricing/\" class=\"caps-heading t-main\">Pricing</a> </li> <li class=\"footer__nav-item\"> <a href=\"/pricing/#historical\">Historical and TMY</a> </li> <li class=\"footer__nav-item\"> <a href=\"/pricing/#forecast\">Live and Forecast</a> </li> </ul> <ul class=\"footer-nav\"> <li class=\"footer__nav-item mb-xsmall\"> <a href=\"/solar-data-api/api-toolkit/\" class=\"caps-heading t-main\">API Toolkit</a> </li> <li class=\"footer__nav-item\"> <a href=\"/solar-data-api/api/\">API Documentation</a> </li> <li class=\"footer__nav-item\"> <a href=\"https://status.solcast.com.au/\">API Status</a> </li> <li class=\"footer__nav-item\"> <a href=\"https://toolkit.solcast.com.au/register\">Free Registration</a> </li> </ul> <ul class=\"footer-nav\"> <li class=\"footer__nav-item mb-xsmall\"> <a href=\"/frequently-asked-questions/\" class=\"caps-heading t-main\">Resources</a> </li> <li class=\"footer__nav-item\"> <a href=\"/frequently-asked-questions/\">FAQ</a> </li> <li class=\"footer__nav-item\"> <a href=\"/solar-data-api/enterprise-solutions/\">Enterprise Solutions</a> </li> <li class=\"footer__nav-item\"> <a href=\"/solar-data-api/api/terms-and-conditions/\">Terms of Use</a> </li> <li class=\"footer__nav-item\"> <a href=\"https://forums.solcast.com.au/\">Forum</a> </li> </ul> <ul class=\"footer-nav\"> <li class=\"footer__nav-item mb-xsmall\"> <a href=\"/about-us/\" class=\"caps-heading t-main\">Company</a> </li> <li class=\"footer__nav-item\"> <a href=\"/blog/\">Blog</a> </li> <li class=\"footer__nav-item\"> <a href=\"/about-us/\">About Us</a> </li> <li class=\"footer__nav-item\"> <a href=\"/about-us/#contact\">Contact Us</a> </li> </ul> </div> </div> <div class=\"grid-col grid-col--2 tb-grid-col--12 tb-grid-col--push-0 ph-grid-col--12 ph-grid-col--push-0 grid-col--bottom-flush\"> <div class=\"footer__social t-right\"> <ul class=\"footer__social-links clearfix d-inline-block\"> <li class=\"footer__social-link fl-left pr-small\"> <a class=\"footer__social-anchor d-block\" href=\"https://twitter.com/solcastAPI\" aria-label=\"Twitter\"> <svg width=\"22\" height=\"18\" viewBox=\"0 0 22 18\" xmlns=\"http://www.w3.org/2000/svg\"> <title>Twitter icon</title> <path d=\"M21.696 2.893a8.673 8.673 0 0 1-2.49.67 4.314 4.314 0 0 0 1.901-2.384 8.516 8.516 0 0 1-2.745 1.044A4.315 4.315 0 0 0 15.2.857a4.324 4.324 0 0 0-4.326 4.326c0 .335.04.67.107.991a12.296 12.296 0 0 1-8.92-4.527 4.294 4.294 0 0 0-.589 2.183c0 1.5.764 2.826 1.929 3.603a4.357 4.357 0 0 1-1.956-.55v.054a4.326 4.326 0 0 0 3.47 4.246c-.362.094-.75.147-1.14.147-.28 0-.548-.026-.816-.067a4.333 4.333 0 0 0 4.044 3 8.663 8.663 0 0 1-5.37 1.849c-.362 0-.696-.014-1.045-.054A12.224 12.224 0 0 0 7.232 18c7.956 0 12.308-6.59 12.308-12.308 0-.188 0-.375-.013-.563a9.3 9.3 0 0 0 2.17-2.236z\" fill=\"#81848A\" fill-rule=\"evenodd\" /> </svg> </a> </li> <li class=\"footer__social-link fl-left\"> <a class=\"footer__social-anchor d-block\" href=\"https://au.linkedin.com/company/solcast\" aria-label=\"LinkedIn\"> <svg width=\"21\" height=\"21\" viewBox=\"0 0 21 21\" xmlns=\"http://www.w3.org/2000/svg\"> <title>LinkedIn icon</title> <path d=\"M3.174 17.366h3.094V8.071H3.174v9.295zM6.47 5.206c-.014-.911-.67-1.608-1.728-1.608-1.058 0-1.754.697-1.754 1.607 0 .884.67 1.607 1.714 1.607h.013c1.085 0 1.755-.723 1.755-1.607zm4.594 4.176v.042h-.027l.027-.042zm0 0v-1.31H7.969s.04.87 0 9.294h3.094V12.17c0-.268.013-.55.093-.75.228-.55.737-1.125 1.594-1.125 1.112 0 1.554.843 1.554 2.102v4.97h3.093v-5.331c0-2.853-1.526-4.179-3.562-4.179-1.625 0-2.365.884-2.772 1.525zM20.57 4v12.857a3.858 3.858 0 0 1-3.857 3.857H3.857A3.858 3.858 0 0 1 0 16.857V4A3.858 3.858 0 0 1 3.857.143h12.857A3.858 3.858 0 0 1 20.571 4z\" fill=\"#81848A\" fill-rule=\"evenodd\" /> </svg> </a> </li> </ul> </div> </div> </div> </div> </footer> <script src=\"/assets/vendor/metaquery-3eda7f0cc81ed17ce80b16adcb258a827e16a427df32766b02e308581d10dcde.js\" type=\"text/javascript\" integrity=\"sha256-Ptp/DMge0XzoCxatyyWKgn4WpCffMnZrAuMIWB0Q3N4=\" crossorigin=\"anonymous\"></script> <script src=\"/assets/vendor/fgloadcss-076d18d9d41bdb9e2a5603e668857056aa01adc2c344b382c73a2f5a9fafd98a.js\" type=\"text/javascript\" integrity=\"sha256-B20Y2dQb254qVgPmaIVwVqoBrcLDRLOCxzovWp+v2Yo=\" crossorigin=\"anonymous\"></script> <script src=\"/assets/index-68c707c9148f508ff30e7309783d8b3c0b560ccf7d6c8159b1e9dfeac7a5011d.js\" type=\"text/javascript\" integrity=\"sha256-aMcHyRSPUI/zDnMJeD2LPAtWDM99bIFZsenf6selAR0=\" crossorigin=\"anonymous\"></script> <script type=\"text/javascript\" integrity=\"sha256-WsIPIF3RHxo050fDUYcxVymVtQ+PsVwpM4Wr9sno38Y=\" crossorigin=\"anonymous\">var APP_ID = \\'r2l1t14h\\'; window.intercomSettings = { app_id: APP_ID, custom_launcher_selector: \\'.open-intercom\\' }; var startIntercom = function(){var w=window;var ic=w.Intercom;if(typeof ic===\"function\"){ic(\\'reattach_activator\\');ic(\\'update\\',w.intercomSettings);}else{var d=document;var i=function(){i.c(arguments);};i.q=[];i.c=function(args){i.q.push(args);};w.Intercom=i;var l=function(){var s=d.createElement(\\'script\\');s.type=\\'text/javascript\\';s.async=true;s.src=\\'https://widget.intercom.io/widget/\\' + APP_ID;var x=d.getElementsByTagName(\\'script\\')[0];x.parentNode.insertBefore(s, x);};if(document.readyState===\\'complete\\'){l();}else if(w.attachEvent){w.attachEvent(\\'onload\\',l);}else{w.addEventListener(\\'load\\',l,false);}}}; setTimeout(startIntercom, 5*1000); </script> </body> </html>\\n'"
      ]
     },
     "execution_count": 36,
     "metadata": {},
     "output_type": "execute_result"
    }
   ],
   "source": [
    "content"
   ]
  },
  {
   "cell_type": "code",
   "execution_count": null,
   "id": "aa919965",
   "metadata": {},
   "outputs": [],
   "source": []
  },
  {
   "cell_type": "code",
   "execution_count": null,
   "id": "08ec644a",
   "metadata": {},
   "outputs": [],
   "source": [
    "temperature_model_parameters = TEMPERATURE_MODEL_PARAMETERS['sapm']['open_rack_glass_glass']"
   ]
  },
  {
   "cell_type": "markdown",
   "id": "f19242dc",
   "metadata": {},
   "source": [
    "## 1) Location , Module, Inverter, System and Model"
   ]
  },
  {
   "cell_type": "code",
   "execution_count": null,
   "id": "edc44af3",
   "metadata": {},
   "outputs": [],
   "source": [
    "#Location\n",
    "loc = Location(latitude=pv.Location['lat'],\n",
    "               longitude=pv.Location['long'],\n",
    "               tz=pv.Location['tz'],\n",
    "               altitude=pv.Location['alt'])"
   ]
  },
  {
   "cell_type": "code",
   "execution_count": null,
   "id": "9df90871",
   "metadata": {},
   "outputs": [],
   "source": [
    "#module\n",
    "module_340 = pd.Series(pv.TSM_TEG14,\n",
    "                       name=pv.TSM_TEG14['Name'])"
   ]
  },
  {
   "cell_type": "code",
   "execution_count": null,
   "id": "c4fcd0ea",
   "metadata": {},
   "outputs": [],
   "source": [
    "#inverter\n",
    "inverter_1600 = pd.Series(pv.INGETEAM_POWER_TECHNOLOGY_S_A___Ingecon_Sun_1600TL_U_B615_Indoor__450V_,\n",
    "                            name=pv.INGETEAM_POWER_TECHNOLOGY_S_A___Ingecon_Sun_1600TL_U_B615_Indoor__450V_['Name'])"
   ]
  },
  {
   "cell_type": "code",
   "execution_count": null,
   "id": "1691fb4f",
   "metadata": {},
   "outputs": [],
   "source": [
    "#System\n",
    "system_A = PVSystem(module_parameters=module_340,\n",
    "                    inverter_parameters=inverter_1600,\n",
    "                    surface_azimuth=pv.System['azimuth'],\n",
    "                    surface_tilt=pv.System['tilt'],\n",
    "                    temperature_model_parameters=temperature_model_parameters,\n",
    "                    modules_per_string=pv.System['m_p_s'],\n",
    "                    strings_per_inverter=pv.System['s_p_i']\n",
    "                   )\n",
    "\n",
    "system_B = PVSystem(module_parameters=module_340,\n",
    "                    inverter_parameters=inverter_1600,\n",
    "                    surface_azimuth=pv.System['azimuth'],\n",
    "                    surface_tilt=pv.System['tilt'],\n",
    "                    temperature_model_parameters=temperature_model_parameters,\n",
    "                    modules_per_string=pv.System['m_p_s'],\n",
    "                    strings_per_inverter=pv.System['s_p_i']\n",
    "                   )\n",
    "\n",
    "system_C = PVSystem(module_parameters=module_340,\n",
    "                    inverter_parameters=inverter_1600,\n",
    "                    surface_azimuth=pv.System['azimuth'],\n",
    "                    surface_tilt=pv.System['tilt'],\n",
    "                    temperature_model_parameters=temperature_model_parameters,\n",
    "                    modules_per_string=pv.System['m_p_s'],\n",
    "                    strings_per_inverter=pv.System['s_p_i']\n",
    "                   )\n",
    "\n",
    "system_D = PVSystem(module_parameters=module_340,\n",
    "                    inverter_parameters=inverter_1600,\n",
    "                    surface_azimuth=pv.System['azimuth'],\n",
    "                    surface_tilt=pv.System['tilt'],\n",
    "                    temperature_model_parameters=temperature_model_parameters,\n",
    "                    modules_per_string=pv.System['m_p_s'],\n",
    "                    strings_per_inverter=pv.System['s_p_i']\n",
    "                   )\n",
    "\n",
    "system_E = PVSystem(module_parameters=module_340,\n",
    "                    inverter_parameters=inverter_1600,\n",
    "                    surface_azimuth=pv.System['azimuth'],\n",
    "                    surface_tilt=pv.System['tilt'],\n",
    "                    temperature_model_parameters=temperature_model_parameters,\n",
    "                    modules_per_string=pv.System['m_p_s'],\n",
    "                    strings_per_inverter=pv.System['s_p_i']\n",
    "                   )\n",
    "\n",
    "system_F = PVSystem(module_parameters=module_340,\n",
    "                    inverter_parameters=inverter_1600,\n",
    "                    surface_azimuth=pv.System['azimuth'],\n",
    "                    surface_tilt=pv.System['tilt'],\n",
    "                    temperature_model_parameters=temperature_model_parameters,\n",
    "                    modules_per_string=pv.System['m_p_s'],\n",
    "                    strings_per_inverter=pv.System['s_p_i']\n",
    "                   )\n"
   ]
  },
  {
   "cell_type": "code",
   "execution_count": null,
   "id": "940eebe1",
   "metadata": {},
   "outputs": [],
   "source": [
    "#model\n",
    "mc_A = ModelChain(system_A, \n",
    "                  loc, \n",
    "                  aoi_model= 'physical' ,       # physical, no_loss\n",
    "                  spectral_model=\"no_loss\",    # no_loss\n",
    "                  dc_model='pvwatts',              # cec or pvwatts\n",
    "                  ac_model = 'pvwatts',        # snlinverter by pvwatts\n",
    "                  #temp_model='sapm',           # sapm\n",
    "                  #losses_model=\"pvwatts\",     # pvwatts\n",
    "                  name=\"system_A\")             # system_A\n",
    "\n",
    "mc_B = ModelChain(system_B, \n",
    "                  loc, \n",
    "                  aoi_model= 'physical' ,       # physical, no_loss\n",
    "                  spectral_model=\"no_loss\",    # no_loss\n",
    "                  dc_model='pvwatts',              # cec or pvwatts\n",
    "                  ac_model = 'pvwatts',        # snlinverter by pvwatts\n",
    "                  #temp_model='sapm',           # sapm\n",
    "                  #losses_model=\"pvwatts\",     # pvwatts\n",
    "                  name=\"system_B\")             # system_B\n",
    "\n",
    "mc_C = ModelChain(system_C, \n",
    "                  loc, \n",
    "                  aoi_model= 'physical' ,       # physical, no_loss\n",
    "                  spectral_model=\"no_loss\",    # no_loss\n",
    "                  dc_model='pvwatts',              # cec or pvwatts\n",
    "                  ac_model = 'pvwatts',        # snlinverter by pvwatts\n",
    "                  #temp_model='sapm',           # sapm\n",
    "                  #losses_model=\"pvwatts\",     # pvwatts\n",
    "                  name=\"system_C\")             # system_C\n",
    "\n",
    "mc_D = ModelChain(system_D, \n",
    "                  loc, \n",
    "                  aoi_model= 'physical' ,       # physical, no_loss\n",
    "                  spectral_model=\"no_loss\",    # no_loss\n",
    "                  dc_model='pvwatts',              # cec or pvwatts\n",
    "                  ac_model = 'pvwatts',        # snlinverter by pvwatts\n",
    "                  #temp_model='sapm',           # sapm\n",
    "                  #losses_model=\"pvwatts\",     # pvwatts\n",
    "                  name=\"system_D\")             # system_A\n",
    "\n",
    "mc_E = ModelChain(system_E, \n",
    "                  loc, \n",
    "                  aoi_model= 'physical' ,       # physical, no_loss\n",
    "                  spectral_model=\"no_loss\",    # no_loss\n",
    "                  dc_model='pvwatts',              # cec or pvwatts\n",
    "                  ac_model = 'pvwatts',        # snlinverter by pvwatts\n",
    "                  #temp_model='sapm',           # sapm\n",
    "                  #losses_model=\"pvwatts\",     # pvwatts\n",
    "                  name=\"system_E\")             # system_B\n",
    "\n",
    "mc_F = ModelChain(system_F, \n",
    "                  loc, \n",
    "                  aoi_model= 'physical' ,       # physical, no_loss\n",
    "                  spectral_model=\"no_loss\",    # no_loss\n",
    "                  dc_model='pvwatts',              # cec or pvwatts\n",
    "                  ac_model = 'pvwatts',        # snlinverter by pvwatts\n",
    "                  #temp_model='sapm',           # sapm\n",
    "                  #losses_model=\"pvwatts\",     # pvwatts\n",
    "                  name=\"system_F\")             # system_C\n",
    "\n"
   ]
  },
  {
   "cell_type": "markdown",
   "id": "ee0d5805",
   "metadata": {},
   "source": [
    "## 2) Data Weather Solcast and Generacion solar"
   ]
  },
  {
   "cell_type": "code",
   "execution_count": null,
   "id": "566b0000",
   "metadata": {},
   "outputs": [],
   "source": [
    "# Weather Solcast\n",
    "name_csv = 'encon.csv'\n",
    "solcast = func.weather_solcast_2(file_path_solcast+name_csv)\n",
    "weather_columns = ['ghi','dni','dhi','temp_air', 'wind_speed','ebh','azimuth','cloud_opacity','zenith']\n",
    "print(len(solcast))\n",
    "\n",
    "times, weather = func.get_times_weather(solcast,loc,weather_columns)\n",
    "\n",
    "#para que conincidan los largos\n",
    "#to-do: automatizacion/refactoring\n",
    "\n",
    "#print(len(times[1175:-23]))\n",
    "#print(times[1175:-23])\n",
    "\n",
    "#print(len(weather[1175:-23]))\n",
    "#print(weather[1075:-23])\n",
    "\n",
    "#times = times[1175:-23]\n",
    "#weather = weather[1175:-23]"
   ]
  },
  {
   "cell_type": "code",
   "execution_count": null,
   "id": "05776e91",
   "metadata": {},
   "outputs": [],
   "source": [
    "# read pickle\n",
    "file_name = 'Real_Generations'\n",
    "file_ext = 'xlsx'\n",
    "data_pickle = func.data_to_pickle(file_path_gen,file_name,file_ext)"
   ]
  },
  {
   "cell_type": "code",
   "execution_count": null,
   "id": "6956a398",
   "metadata": {},
   "outputs": [],
   "source": [
    "# names to seach\n",
    "names_pv = ['PMGD PFV LA BLANQUINA']"
   ]
  },
  {
   "cell_type": "markdown",
   "id": "798eec96",
   "metadata": {},
   "source": [
    "### 2.1) Hour"
   ]
  },
  {
   "cell_type": "code",
   "execution_count": null,
   "id": "7e3f43fc",
   "metadata": {},
   "outputs": [],
   "source": [
    "# find hourly logs for each name\n",
    "data_hours = func.filter_hour_from_dataFrame(data=data_pickle,\n",
    "                                      #columns_names=[],\n",
    "                                      #column_fecha='Fecha'\n",
    "                                      #column_central='Central',\n",
    "                                      #first_year=2021,\n",
    "                                      #last_year=2021,\n",
    "                                      names_pv=names_pv,\n",
    "                                      #months=[7,8,9,10,11,12],\n",
    "                                      multi = 1000,\n",
    "                                      p = False)"
   ]
  },
  {
   "cell_type": "code",
   "execution_count": null,
   "id": "c319d000",
   "metadata": {},
   "outputs": [],
   "source": [
    "#pp = 0\n",
    "#for i in data_hours[names_pv[0]]:\n",
    "#    print(pp,i,data_hours[names_pv[0]][i])\n",
    "#    pp = pp + 1"
   ]
  },
  {
   "cell_type": "code",
   "execution_count": null,
   "id": "5a7d8452",
   "metadata": {},
   "outputs": [],
   "source": [
    "c = []\n",
    "for i in data_hours[names_pv[0]]:\n",
    "    c.append(i)\n",
    "    \n",
    "for i in range(120):\n",
    "    print(c[i],data_hours[names_pv[0]].pop(c[i]))\n",
    "\n",
    "print(c[-1],data_hours[names_pv[0]].pop(c[-1]))"
   ]
  },
  {
   "cell_type": "code",
   "execution_count": null,
   "id": "326195ac",
   "metadata": {},
   "outputs": [],
   "source": [
    "pp = 0\n",
    "for i in data_hours[names_pv[0]]:\n",
    "    print(pp,i,data_hours[names_pv[0]][i])\n",
    "    pp = pp + 1"
   ]
  },
  {
   "cell_type": "code",
   "execution_count": null,
   "id": "c8758539",
   "metadata": {},
   "outputs": [],
   "source": [
    "func.graph(data=data_hours,\n",
    "           x_label= 'Year [H]',\n",
    "           y_label='Power [MW/H]',\n",
    "           name='hour')"
   ]
  },
  {
   "cell_type": "markdown",
   "id": "78071715",
   "metadata": {},
   "source": [
    "### 2.2) Day"
   ]
  },
  {
   "cell_type": "code",
   "execution_count": null,
   "id": "b12946e8",
   "metadata": {
    "scrolled": true
   },
   "outputs": [],
   "source": [
    "# find daily logs for each name\n",
    "data_days = func.filter_day_from_dataFrame(data=data_pickle,\n",
    "                                      #column_fecha='Fecha'\n",
    "                                      #column_total='Total'\n",
    "                                      #column_central='Central',\n",
    "                                      #first_year=2021,\n",
    "                                      #last_year=2021,\n",
    "                                      names_pv=names_pv,\n",
    "                                      #months=[7,8,9,10,11,12],\n",
    "                                      multi = 1000,\n",
    "                                      p = False)"
   ]
  },
  {
   "cell_type": "code",
   "execution_count": null,
   "id": "ecc1e173",
   "metadata": {},
   "outputs": [],
   "source": [
    "c = []\n",
    "for i in data_days[names_pv[0]]:\n",
    "    c.append(i)\n",
    "    \n",
    "for i in range(5):\n",
    "    print(c[i],data_days[names_pv[0]].pop(c[i]))\n",
    "\n",
    "#print(c[-1],data_days[names_pv[0]].pop(c[-1]))\n",
    "\n",
    "\n"
   ]
  },
  {
   "cell_type": "code",
   "execution_count": null,
   "id": "627e7cbf",
   "metadata": {},
   "outputs": [],
   "source": [
    "pp = 0\n",
    "for i in data_days[names_pv[0]]:\n",
    "    print(pp,i,data_days[names_pv[0]][i])\n",
    "    pp = pp + 1"
   ]
  },
  {
   "cell_type": "code",
   "execution_count": null,
   "id": "fa1518fe",
   "metadata": {
    "scrolled": false
   },
   "outputs": [],
   "source": [
    "func.graph(data=data_days,\n",
    "           x_label= 'Year [D]',\n",
    "           y_label='Power [MW/D]',\n",
    "           name='days')"
   ]
  },
  {
   "cell_type": "markdown",
   "id": "1eec6358",
   "metadata": {},
   "source": [
    "### 2.3) Month"
   ]
  },
  {
   "cell_type": "code",
   "execution_count": null,
   "id": "ae0d4787",
   "metadata": {
    "scrolled": true
   },
   "outputs": [],
   "source": [
    "# find daily logs for each name\n",
    "data_month = func.filter_month_from_dataFrame(data=data_pickle,\n",
    "                                      #column_fecha='Fecha'\n",
    "                                      #column_total='Total'\n",
    "                                      #column_central='Central',\n",
    "                                      #first_year=2021,\n",
    "                                      #last_year=2021,\n",
    "                                      names_pv=names_pv,\n",
    "                                      #months=[7,8,9,10,11,12],\n",
    "                                      multi = 1000,\n",
    "                                      p = False)"
   ]
  },
  {
   "cell_type": "code",
   "execution_count": null,
   "id": "3fbdd901",
   "metadata": {},
   "outputs": [],
   "source": [
    "func.graph(data=data_month,\n",
    "           x_label= 'Year [M]',\n",
    "           y_label='Power [MW/M]',\n",
    "           name='meses')"
   ]
  },
  {
   "cell_type": "markdown",
   "id": "bc09febc",
   "metadata": {},
   "source": [
    "## 3) Simulate"
   ]
  },
  {
   "cell_type": "code",
   "execution_count": null,
   "id": "4df2394e",
   "metadata": {},
   "outputs": [],
   "source": [
    "#\n",
    "data_h = data_hours[names_pv[0]].values()\n",
    "data_d = data_days[names_pv[0]].values()\n",
    "data_m = data_month[names_pv[0]].values()\n",
    "\n",
    "data_h = [float(x) for x in data_h]\n",
    "data_d = [float(x) for x in data_d]\n",
    "data_m = [float(x) for x in data_m]\n"
   ]
  },
  {
   "cell_type": "code",
   "execution_count": null,
   "id": "871c0fcc",
   "metadata": {
    "scrolled": true
   },
   "outputs": [],
   "source": [
    "# Run model\n",
    "#weather = pd.DataFrame([[1050,1000,100,30,5]],\n",
    "#                      columns = ['ghi','dni','dhi','temp_air','wind_speed'],\n",
    "#                      index=[pd.Timestamp('20170401 1200', tz='US/Arizona')])\n",
    "mc_A.run_model(weather=weather)\n",
    "mc_B.run_model(weather=weather)\n",
    "mc_C.run_model(weather=weather)\n",
    "\n"
   ]
  },
  {
   "cell_type": "markdown",
   "id": "6f9a7a15",
   "metadata": {},
   "source": [
    "## 4) Graphics"
   ]
  },
  {
   "cell_type": "markdown",
   "id": "c2cb6dd9",
   "metadata": {},
   "source": [
    "### 3.1) Hour"
   ]
  },
  {
   "cell_type": "code",
   "execution_count": null,
   "id": "2fc99d04",
   "metadata": {
    "scrolled": false
   },
   "outputs": [],
   "source": [
    "x_h ,y_h_a = func.get_hourly_axes_from_modelChain_object(mc_A, 'System_A')\n",
    "_ ,y_h_b = func.get_hourly_axes_from_modelChain_object(mc_B, 'System_B')\n",
    "_ ,y_h_c = func.get_hourly_axes_from_modelChain_object(mc_C, 'System_C')\n",
    "\n",
    "\n",
    "y_h = [(a+b+c)/1000 for a,b,c in zip(y_h_a,y_h_b,y_h_c)]\n",
    "func.plot_2(x=x_h,\n",
    "          y=y_h,\n",
    "          y2=y_h,\n",
    "          size=(12,6),\n",
    "          save='si',\n",
    "          name_file='LA_BLANQUINA_horas',\n",
    "          color='orange',\n",
    "          title='Generación',\n",
    "          x_label='Tiempo [Horas]',\n",
    "          y_label='Potencia acumulada [kw/h]')\n",
    "\n",
    "func.plot_3(x=x_h,\n",
    "            y=y_h,\n",
    "            y2=data_h,\n",
    "            name_file='LA_BLANQUINA_horas')"
   ]
  },
  {
   "cell_type": "markdown",
   "id": "16c333ff",
   "metadata": {},
   "source": [
    "### 3.2) Day"
   ]
  },
  {
   "cell_type": "code",
   "execution_count": null,
   "id": "2c11b613",
   "metadata": {
    "scrolled": false
   },
   "outputs": [],
   "source": [
    "x_d ,y_d_a = func.get_daily_axes_from_modelChain_object(mc_A, 'System_A')\n",
    "_ ,y_d_b = func.get_daily_axes_from_modelChain_object(mc_B, 'System_B')\n",
    "_ ,y_d_c = func.get_daily_axes_from_modelChain_object(mc_C, 'System_C')\n",
    "\n",
    "\n",
    "y_d = [(a+b+c)/1000 for a,b,c in zip(y_d_a,y_d_b,y_d_c)]\n",
    "func.plot_2(x=x_d,\n",
    "          y=y_d,\n",
    "          y2=data_d,\n",
    "          size=(12,6),\n",
    "          save='si',\n",
    "          name_file='LA_BLANQUINA_dias',\n",
    "          color='orange',\n",
    "          title='Generación',\n",
    "          x_label='Tiempo [Dias]',\n",
    "          y_label='Potencia acumulada [kw/h]')\n",
    "\n",
    "func.plot_3(x=pd.to_datetime(x_d),\n",
    "            y=y_d,\n",
    "            y2=data_d,\n",
    "            name_file='LA_BLANQUINA_dias')"
   ]
  },
  {
   "cell_type": "markdown",
   "id": "ef6c320f",
   "metadata": {},
   "source": [
    "### 3.3) Month"
   ]
  },
  {
   "cell_type": "code",
   "execution_count": null,
   "id": "d9d3ae3c",
   "metadata": {},
   "outputs": [],
   "source": [
    "#falta modificar la data de entrada para que se grafique por hora\n",
    "x_m, y_m_a = func.get_monthly_axes_from_modelChain_object(mc_A,'System_A')\n",
    "_, y_m_b = func.get_monthly_axes_from_modelChain_object(mc_B,'System_B')\n",
    "_, y_m_c = func.get_monthly_axes_from_modelChain_object(mc_C,'System_C')\n",
    "\n",
    "\n",
    "y_m = [(a+b+c)/1000 for a,b,c in zip(y_m_a,y_m_b,y_m_c)]\n",
    "\n",
    "func.plot_2(x=x_m,\n",
    "          y=y_m,\n",
    "          y2=data_m,\n",
    "          size=(12,6),\n",
    "          save='si',\n",
    "          name_file='LA_BLANQUINA_meses',\n",
    "          color='orange',\n",
    "          title='Generación',\n",
    "          x_label='Tiempo [Meses]',\n",
    "          y_label='Potencia acumulada [kw/h]')\n",
    "\n",
    "func.plot_3(x=pd.to_datetime(x_m),\n",
    "            y=y_m,\n",
    "            y2=data_m,\n",
    "            name_file='LA_BLANQUINA_meses')"
   ]
  },
  {
   "cell_type": "markdown",
   "id": "8d0317b3",
   "metadata": {},
   "source": [
    "### 5) Extras"
   ]
  },
  {
   "cell_type": "code",
   "execution_count": null,
   "id": "2b525fea",
   "metadata": {
    "scrolled": false
   },
   "outputs": [],
   "source": [
    "#func.plot_1(x=mc_A.ac.iloc[0:].index,\n",
    "#          y=mc_A.ac.iloc[0:].values+mc_B.ac.iloc[0:].values+mc_C.ac.iloc[0:].values+mc_D.ac.iloc[0:].values+mc_E.ac.iloc[0:].values+mc_F.ac.iloc[0:].values,\n",
    "#          #y2=data,\n",
    "#          size=(12,6),\n",
    "#          save='si',\n",
    "#          name_file='TRICAHUE_II_meses_horas',\n",
    "#          color='none',\n",
    "#          title='Generación',\n",
    "#          x_label='Tiempo [Horas]',\n",
    "#          y_label='Potencia acumulada [kw/h]')"
   ]
  },
  {
   "cell_type": "code",
   "execution_count": null,
   "id": "28cc59d8",
   "metadata": {
    "scrolled": true
   },
   "outputs": [],
   "source": [
    "textos_modulos = ['JA','320',''] # tienen que ser 3 textos\n",
    "textos_inversores = ['','1600',''] # tiene que ser 3 textos\n",
    "c = func.buscador(textos_inversores,textos_modulos)\n",
    "\n",
    "for a in c:\n",
    "    print(a,\":\\n\")\n",
    "    for i in c[a]:\n",
    "        print(i)"
   ]
  },
  {
   "cell_type": "code",
   "execution_count": null,
   "id": "40eac276",
   "metadata": {},
   "outputs": [],
   "source": [
    "pvlib.pvsystem.retrieve_sam('cecMod').JA_Solar_JAP72S01_320_SC\n"
   ]
  },
  {
   "cell_type": "code",
   "execution_count": null,
   "id": "56b45d65",
   "metadata": {},
   "outputs": [],
   "source": [
    "pvlib.pvsystem.retrieve_sam('sandiainverter').SMA_America__SWR1800U__120V_\n",
    "pvlib.pvsystem.retrieve_sam('sandiainverter').SMA_America__SB2000HFUS_30__240V_\n",
    "pvlib.pvsystem.retrieve_sam('sandiainverter').SMA_America__SB3000HFUS_30__240V_\n",
    "pvlib.pvsystem.retrieve_sam('sandiainverter').INGETEAM_POWER_TECHNOLOGY_S_A___Ingecon_Sun_1600TL_U_B615_Indoor__450V_\n",
    "\n",
    "\n"
   ]
  },
  {
   "cell_type": "code",
   "execution_count": null,
   "id": "40deee4f",
   "metadata": {},
   "outputs": [],
   "source": []
  },
  {
   "cell_type": "code",
   "execution_count": null,
   "id": "6f216589",
   "metadata": {},
   "outputs": [],
   "source": []
  }
 ],
 "metadata": {
  "kernelspec": {
   "display_name": "Python 3 (ipykernel)",
   "language": "python",
   "name": "python3"
  },
  "language_info": {
   "codemirror_mode": {
    "name": "ipython",
    "version": 3
   },
   "file_extension": ".py",
   "mimetype": "text/x-python",
   "name": "python",
   "nbconvert_exporter": "python",
   "pygments_lexer": "ipython3",
   "version": "3.9.7"
  }
 },
 "nbformat": 4,
 "nbformat_minor": 5
}
