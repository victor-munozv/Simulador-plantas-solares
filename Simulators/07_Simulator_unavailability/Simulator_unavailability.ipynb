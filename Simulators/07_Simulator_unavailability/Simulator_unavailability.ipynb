{
 "cells": [
  {
   "cell_type": "markdown",
   "id": "63e36078",
   "metadata": {},
   "source": [
    "# Simulator PV and unavaibility \n",
    "\n",
    "- Author: Victor Muñoz\n",
    "- Collaborator: Nicolás Otárola\n",
    "- Pvlib_version: 0.9.0\n",
    "- Date : 07-08-2022 "
   ]
  }
 ],
 "metadata": {
  "kernelspec": {
   "display_name": "Python 3 (ipykernel)",
   "language": "python",
   "name": "python3"
  },
  "language_info": {
   "codemirror_mode": {
    "name": "ipython",
    "version": 3
   },
   "file_extension": ".py",
   "mimetype": "text/x-python",
   "name": "python",
   "nbconvert_exporter": "python",
   "pygments_lexer": "ipython3",
   "version": "3.10.4"
  }
 },
 "nbformat": 4,
 "nbformat_minor": 5
}
