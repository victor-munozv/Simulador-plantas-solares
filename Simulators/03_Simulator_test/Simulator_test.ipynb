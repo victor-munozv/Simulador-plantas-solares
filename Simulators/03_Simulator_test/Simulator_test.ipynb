{
 "cells": [
  {
   "cell_type": "markdown",
   "id": "4da03461",
   "metadata": {},
   "source": [
    "# Simulator PV Simulator_test\n",
    "\n",
    "- Author: Victor Muñoz\n",
    "- Collaborator: Nicolás Otárola\n",
    "- Pvlib_version: 0.9.0\n",
    "- Date : 24-01-2022 "
   ]
  },
  {
   "cell_type": "code",
   "execution_count": null,
   "id": "4999f1a5",
   "metadata": {},
   "outputs": [],
   "source": [
    "# data science\n",
    "import numpy as np\n",
    "import pandas as pd\n",
    "import matplotlib.pyplot as plt\n",
    "\n",
    "# Photovoltaic systems\n",
    "import pvlib\n",
    "from pvlib.pvsystem import PVSystem\n",
    "from pvlib.location import Location\n",
    "from pvlib.modelchain import ModelChain\n",
    "\n",
    "# paths\n",
    "file_path_gen = '../../Data/Real_Generations_Data/'\n",
    "file_path_solcast = '../../Data/Solcast_Data/'\n",
    "file_path_func = '../../Functions/'\n",
    "\n",
    "# functions AND system photovoltaic\n",
    "import sys\n",
    "sys.path.append(file_path_gen)\n",
    "sys.path.append(file_path_solcast)\n",
    "sys.path.append(file_path_func)\n",
    "\n",
    "import functions as func\n",
    "import Simulator_test_config as pv\n",
    "\n",
    "import imp\n",
    "imp.reload(pv)\n",
    "imp.reload(func)\n",
    "\n",
    "# save graphics\n",
    "%matplotlib inline\n",
    "%matplotlib notebook\n",
    "\n",
    "#new library\n",
    "from pvlib.pvsystem import FixedMount\n",
    "from pvlib.temperature import TEMPERATURE_MODEL_PARAMETERS\n",
    "\n",
    "import bokeh as boken\n",
    "import bokeh.palettes as bkpalet #from bokeh.palettes import PuOr\n",
    "import bokeh.transform as bktrans # from bokeh.transform import cumsums"
   ]
  },
  {
   "cell_type": "code",
   "execution_count": null,
   "id": "08ec644a",
   "metadata": {},
   "outputs": [],
   "source": [
    "temperature_model_parameters = TEMPERATURE_MODEL_PARAMETERS['sapm']['open_rack_glass_glass']"
   ]
  },
  {
   "cell_type": "markdown",
   "id": "f19242dc",
   "metadata": {},
   "source": [
    "## 1) Location , Module, Inverter, System and Model"
   ]
  },
  {
   "cell_type": "code",
   "execution_count": null,
   "id": "edc44af3",
   "metadata": {},
   "outputs": [],
   "source": [
    "#Location\n",
    "loc = Location(latitude=pv.Location['lat'],\n",
    "               longitude=pv.Location['long'],\n",
    "               tz=pv.Location['tz'],\n",
    "               altitude=pv.Location['alt'])"
   ]
  },
  {
   "cell_type": "code",
   "execution_count": null,
   "id": "9df90871",
   "metadata": {},
   "outputs": [],
   "source": [
    "#module\n",
    "module_310 = pd.Series(pv.JAP72S01_320,\n",
    "                       name=pv.JAP72S01_320['Name'])"
   ]
  },
  {
   "cell_type": "code",
   "execution_count": null,
   "id": "c4fcd0ea",
   "metadata": {},
   "outputs": [],
   "source": [
    "#inverter\n",
    "inverter_800 = pd.Series(pv.SMA_America_SB2000HFUS,\n",
    "                            name=pv.SMA_America_SB2000HFUS['Name'])"
   ]
  },
  {
   "cell_type": "code",
   "execution_count": null,
   "id": "1691fb4f",
   "metadata": {},
   "outputs": [],
   "source": [
    "#System\n",
    "system_A = PVSystem(module_parameters=module_310,\n",
    "                    inverter_parameters=inverter_800,\n",
    "                    surface_azimuth=pv.System['azimuth'],\n",
    "                    surface_tilt=pv.System['tilt'],\n",
    "                    temperature_model_parameters=temperature_model_parameters,\n",
    "                    modules_per_string=pv.System['m_p_s'],\n",
    "                    strings_per_inverter=pv.System['s_p_i']\n",
    "                   )\n",
    "\n",
    "system_B = PVSystem(module_parameters=module_310,\n",
    "                    inverter_parameters=inverter_800,\n",
    "                    surface_azimuth=pv.System['azimuth'],\n",
    "                    surface_tilt=pv.System['tilt'],\n",
    "                    temperature_model_parameters=temperature_model_parameters,\n",
    "                    modules_per_string=pv.System['m_p_s'],\n",
    "                    strings_per_inverter=pv.System['s_p_i']\n",
    "                   )\n",
    "\n",
    "system_C = PVSystem(module_parameters=module_310,\n",
    "                    inverter_parameters=inverter_800,\n",
    "                    surface_azimuth=pv.System['azimuth'],\n",
    "                    surface_tilt=pv.System['tilt'],\n",
    "                    temperature_model_parameters=temperature_model_parameters,\n",
    "                    modules_per_string=pv.System['m_p_s'],\n",
    "                    strings_per_inverter=pv.System['s_p_i']\n",
    "                   )\n",
    "\n",
    "system_D = PVSystem(module_parameters=module_310,\n",
    "                    inverter_parameters=inverter_800,\n",
    "                    surface_azimuth=pv.System['azimuth'],\n",
    "                    surface_tilt=pv.System['tilt'],\n",
    "                    temperature_model_parameters=temperature_model_parameters,\n",
    "                    modules_per_string=pv.System['m_p_s'],\n",
    "                    strings_per_inverter=pv.System['s_p_i']\n",
    "                   )\n",
    "\n",
    "system_E = PVSystem(module_parameters=module_310,\n",
    "                    inverter_parameters=inverter_800,\n",
    "                    surface_azimuth=pv.System['azimuth'],\n",
    "                    surface_tilt=pv.System['tilt'],\n",
    "                    temperature_model_parameters=temperature_model_parameters,\n",
    "                    modules_per_string=pv.System['m_p_s'],\n",
    "                    strings_per_inverter=pv.System['s_p_i']\n",
    "                   )\n",
    "\n",
    "system_F = PVSystem(module_parameters=module_310,\n",
    "                    inverter_parameters=inverter_800,\n",
    "                    surface_azimuth=pv.System['azimuth'],\n",
    "                    surface_tilt=pv.System['tilt'],\n",
    "                    temperature_model_parameters=temperature_model_parameters,\n",
    "                    modules_per_string=pv.System['m_p_s'],\n",
    "                    strings_per_inverter=pv.System['s_p_i']\n",
    "                   )\n",
    "\n",
    "system_G = PVSystem(module_parameters=module_310,\n",
    "                    inverter_parameters=inverter_800,\n",
    "                    surface_azimuth=pv.System['azimuth'],\n",
    "                    surface_tilt=pv.System['tilt'],\n",
    "                    temperature_model_parameters=temperature_model_parameters,\n",
    "                    modules_per_string=pv.System['m_p_s'],\n",
    "                    strings_per_inverter=pv.System['s_p_i']\n",
    "                   )\n",
    "\n",
    "system_H = PVSystem(module_parameters=module_310,\n",
    "                    inverter_parameters=inverter_800,\n",
    "                    surface_azimuth=pv.System['azimuth'],\n",
    "                    surface_tilt=pv.System['tilt'],\n",
    "                    temperature_model_parameters=temperature_model_parameters,\n",
    "                    modules_per_string=pv.System['m_p_s'],\n",
    "                    strings_per_inverter=pv.System['s_p_i']\n",
    "                   )\n"
   ]
  },
  {
   "cell_type": "code",
   "execution_count": null,
   "id": "940eebe1",
   "metadata": {},
   "outputs": [],
   "source": [
    "#model\n",
    "mc_A = ModelChain(system_A, \n",
    "                  loc, \n",
    "                  aoi_model= 'physical' ,       # physical, no_loss\n",
    "                  spectral_model=\"no_loss\",    # no_loss\n",
    "                  dc_model='pvwatts',              # cec or pvwatts\n",
    "                  ac_model = 'pvwatts',        # snlinverter by pvwatts\n",
    "                  #temp_model='sapm',           # sapm\n",
    "                  #losses_model=\"pvwatts\",     # pvwatts\n",
    "                  name=\"system_A\")             # system_A\n",
    "\n",
    "mc_B = ModelChain(system_B, \n",
    "                  loc, \n",
    "                  aoi_model= 'physical' ,       # physical, no_loss\n",
    "                  spectral_model=\"no_loss\",    # no_loss\n",
    "                  dc_model='pvwatts',              # cec or pvwatts\n",
    "                  ac_model = 'pvwatts',        # snlinverter by pvwatts\n",
    "                  #temp_model='sapm',           # sapm\n",
    "                  #losses_model=\"pvwatts\",     # pvwatts\n",
    "                  name=\"system_B\")             # system_B\n",
    "\n",
    "mc_C = ModelChain(system_C, \n",
    "                  loc, \n",
    "                  aoi_model= 'physical' ,       # physical, no_loss\n",
    "                  spectral_model=\"no_loss\",    # no_loss\n",
    "                  dc_model='pvwatts',              # cec or pvwatts\n",
    "                  ac_model = 'pvwatts',        # snlinverter by pvwatts\n",
    "                  #temp_model='sapm',           # sapm\n",
    "                  #losses_model=\"pvwatts\",     # pvwatts\n",
    "                  name=\"system_C\")             # system_C\n",
    "\n",
    "mc_D = ModelChain(system_D, \n",
    "                  loc, \n",
    "                  aoi_model= 'physical' ,       # physical, no_loss\n",
    "                  spectral_model=\"no_loss\",    # no_loss\n",
    "                  dc_model='pvwatts',              # cec or pvwatts\n",
    "                  ac_model = 'pvwatts',        # snlinverter by pvwatts\n",
    "                  #temp_model='sapm',           # sapm\n",
    "                  #losses_model=\"pvwatts\",     # pvwatts\n",
    "                  name=\"system_D\")             # system_D\n",
    "\n",
    "mc_E = ModelChain(system_E, \n",
    "                  loc, \n",
    "                  aoi_model= 'physical' ,       # physical, no_loss\n",
    "                  spectral_model=\"no_loss\",    # no_loss\n",
    "                  dc_model='pvwatts',              # cec or pvwatts\n",
    "                  ac_model = 'pvwatts',        # snlinverter by pvwatts\n",
    "                  #temp_model='sapm',           # sapm\n",
    "                  #losses_model=\"pvwatts\",     # pvwatts\n",
    "                  name=\"system_E\")             # system_E\n",
    "\n",
    "mc_F = ModelChain(system_F, \n",
    "                  loc, \n",
    "                  aoi_model= 'physical' ,       # physical, no_loss\n",
    "                  spectral_model=\"no_loss\",    # no_loss\n",
    "                  dc_model='pvwatts',              # cec or pvwatts\n",
    "                  ac_model = 'pvwatts',        # snlinverter by pvwatts\n",
    "                  #temp_model='sapm',           # sapm\n",
    "                  #losses_model=\"pvwatts\",     # pvwatts\n",
    "                  name=\"system_F\")             # system_F\n",
    "\n",
    "mc_G = ModelChain(system_G, \n",
    "                  loc, \n",
    "                  aoi_model= 'physical' ,       # physical, no_loss\n",
    "                  spectral_model=\"no_loss\",    # no_loss\n",
    "                  dc_model='pvwatts',              # cec or pvwatts\n",
    "                  ac_model = 'pvwatts',        # snlinverter by pvwatts\n",
    "                  #temp_model='sapm',           # sapm\n",
    "                  #losses_model=\"pvwatts\",     # pvwatts\n",
    "                  name=\"system_G\")             # system_F\n",
    "\n",
    "mc_H = ModelChain(system_H, \n",
    "                  loc, \n",
    "                  aoi_model= 'physical' ,       # physical, no_loss\n",
    "                  spectral_model=\"no_loss\",    # no_loss\n",
    "                  dc_model='pvwatts',              # cec or pvwatts\n",
    "                  ac_model = 'pvwatts',        # snlinverter by pvwatts\n",
    "                  #temp_model='sapm',           # sapm\n",
    "                  #losses_model=\"pvwatts\",     # pvwatts\n",
    "                  name=\"system_H\")             # system_F\n"
   ]
  },
  {
   "cell_type": "markdown",
   "id": "ee0d5805",
   "metadata": {},
   "source": [
    "## 2) Data Weather Solcast and Generacion solar"
   ]
  },
  {
   "cell_type": "code",
   "execution_count": null,
   "id": "566b0000",
   "metadata": {},
   "outputs": [],
   "source": [
    "# Weather Solcast\n",
    "name_csv = 'encon_solar2.csv'\n",
    "solcast = func.weather_solcast_2(file_path_solcast+name_csv)\n",
    "weather_columns = ['ghi','dni','dhi','temp_air', 'wind_speed','ebh','azimuth','cloud_opacity','zenith','relative_humidity']\n",
    "times, weather = func.get_times_weather(solcast,loc,weather_columns)\n",
    "\n",
    "#para que conincidan los largos\n",
    "#to-do: automatizacion/refactoring\n",
    "\n",
    "print(len(times[1175:-23]))\n",
    "print(times[1175:-23])\n",
    "\n",
    "print(len(weather[1175:-23]))\n",
    "#print(weather[1075:-23])\n",
    "\n",
    "times = times[1175:-23]\n",
    "weather = weather[1175:-23]"
   ]
  },
  {
   "cell_type": "code",
   "execution_count": null,
   "id": "05776e91",
   "metadata": {},
   "outputs": [],
   "source": [
    "# read pickle\n",
    "file_name = 'Real_Generations'\n",
    "file_ext = 'xlsx'\n",
    "data_pickle = func.data_to_pickle(file_path_gen,file_name,file_ext)"
   ]
  },
  {
   "cell_type": "code",
   "execution_count": null,
   "id": "6956a398",
   "metadata": {},
   "outputs": [],
   "source": [
    "# names to seach\n",
    "names_pv = ['PMGD PFV ENCON SOLAR']"
   ]
  },
  {
   "cell_type": "code",
   "execution_count": null,
   "id": "7e3f43fc",
   "metadata": {},
   "outputs": [],
   "source": [
    "# find hourly logs for each name\n",
    "data_hours = func.filter_hour_from_dataFrame(data=data_pickle,\n",
    "                                      #columns_names=[],\n",
    "                                      #column_fecha='Fecha'\n",
    "                                      #column_central='Central',\n",
    "                                      #first_year=2021,\n",
    "                                      #last_year=2021,\n",
    "                                      names_pv=names_pv,\n",
    "                                      #months=[7,8,9,10,11,12],\n",
    "                                      multi = 1000,\n",
    "                                      p = False)"
   ]
  },
  {
   "cell_type": "code",
   "execution_count": null,
   "id": "c8758539",
   "metadata": {},
   "outputs": [],
   "source": [
    "func.graph(data=data_hours,\n",
    "           x_label= 'Year [H]',\n",
    "           y_label='Power [MW/H]',\n",
    "           name='hour')"
   ]
  },
  {
   "cell_type": "code",
   "execution_count": null,
   "id": "b12946e8",
   "metadata": {
    "scrolled": true
   },
   "outputs": [],
   "source": [
    "# find daily logs for each name\n",
    "data_days = func.filter_day_from_dataFrame(data=data_pickle,\n",
    "                                      #column_fecha='Fecha'\n",
    "                                      #column_total='Total'\n",
    "                                      #column_central='Central',\n",
    "                                      #first_year=2021,\n",
    "                                      #last_year=2021,\n",
    "                                      names_pv=names_pv,\n",
    "                                      #months=[7,8,9,10,11,12],\n",
    "                                      multi = 1000,\n",
    "                                      p = False)"
   ]
  },
  {
   "cell_type": "code",
   "execution_count": null,
   "id": "85aa9ebc",
   "metadata": {},
   "outputs": [],
   "source": [
    "pp = 0\n",
    "for i in data_days[names_pv[0]]:\n",
    "    print(pp,i,data_days[names_pv[0]][i])\n",
    "    pp = pp + 1"
   ]
  },
  {
   "cell_type": "code",
   "execution_count": null,
   "id": "6a34554c",
   "metadata": {},
   "outputs": [],
   "source": [
    "c = []\n",
    "for i in data_days[names_pv[0]]:\n",
    "    c.append(i)\n",
    "    \n",
    "for i in range(43):\n",
    "    print(data_days[names_pv[0]].pop(c[i]))"
   ]
  },
  {
   "cell_type": "code",
   "execution_count": null,
   "id": "24658ad9",
   "metadata": {},
   "outputs": [],
   "source": [
    "pp = 0\n",
    "for i in data_days[names_pv[0]]:\n",
    "    print(pp,i,data_days[names_pv[0]][i])\n",
    "    pp = pp + 1"
   ]
  },
  {
   "cell_type": "code",
   "execution_count": null,
   "id": "fa1518fe",
   "metadata": {
    "scrolled": false
   },
   "outputs": [],
   "source": [
    "func.graph(data=data_days,\n",
    "           x_label= 'Year [D]',\n",
    "           y_label='Power [MW/D]',\n",
    "           name='days')"
   ]
  },
  {
   "cell_type": "code",
   "execution_count": null,
   "id": "ae0d4787",
   "metadata": {
    "scrolled": true
   },
   "outputs": [],
   "source": [
    "data = data_days[names_pv[0]].values()\n",
    "len(data)"
   ]
  },
  {
   "cell_type": "markdown",
   "id": "bc09febc",
   "metadata": {},
   "source": [
    "## 3) Simulate"
   ]
  },
  {
   "cell_type": "code",
   "execution_count": null,
   "id": "871c0fcc",
   "metadata": {
    "scrolled": true
   },
   "outputs": [],
   "source": [
    "# Run model\n",
    "#weather = pd.DataFrame([[1050,1000,100,30,5]],\n",
    "#                      columns = ['ghi','dni','dhi','temp_air','wind_speed'],\n",
    "#                      index=[pd.Timestamp('20170401 1200', tz='US/Arizona')])\n",
    "mc_A.run_model(weather=weather)\n",
    "mc_B.run_model(weather=weather)\n",
    "mc_C.run_model(weather=weather)\n",
    "mc_D.run_model(weather=weather)\n",
    "mc_E.run_model(weather=weather)\n",
    "mc_F.run_model(weather=weather)\n",
    "mc_G.run_model(weather=weather)\n",
    "mc_H.run_model(weather=weather)\n",
    "\n"
   ]
  },
  {
   "cell_type": "markdown",
   "id": "6f9a7a15",
   "metadata": {},
   "source": [
    "## 4) Graphics"
   ]
  },
  {
   "cell_type": "code",
   "execution_count": null,
   "id": "2c11b613",
   "metadata": {
    "scrolled": false
   },
   "outputs": [],
   "source": [
    "x_d ,y_d_a = func.get_daily_axes_from_modelChain_object(mc_A, 'System_A')\n",
    "_ ,y_d_b = func.get_daily_axes_from_modelChain_object(mc_B, 'System_B')\n",
    "_ ,y_d_c = func.get_daily_axes_from_modelChain_object(mc_C, 'System_C')\n",
    "_ ,y_d_d = func.get_daily_axes_from_modelChain_object(mc_D, 'System_D')\n",
    "_ ,y_d_e = func.get_daily_axes_from_modelChain_object(mc_E, 'System_E')\n",
    "_ ,y_d_f = func.get_daily_axes_from_modelChain_object(mc_F, 'System_F')\n",
    "_ ,y_d_g = func.get_daily_axes_from_modelChain_object(mc_F, 'System_G')\n",
    "_ ,y_d_h = func.get_daily_axes_from_modelChain_object(mc_F, 'System_H')\n",
    "\n",
    "y_d = [(a+b+c+d+e)/1000 for a,b,c,d,e in zip(y_d_a,y_d_b,y_d_c,y_d_d,y_d_e)]\n",
    "func.plot_2(x=x_d,\n",
    "          y=y_d,\n",
    "          y2=data,\n",
    "          size=(12,6),\n",
    "          save='si',\n",
    "          name_file='ENCON_SOLAR_dias',\n",
    "          color='orange',\n",
    "          title='Generación',\n",
    "          x_label='Tiempo [Dias]',\n",
    "          y_label='Potencia acumulada [kw/h]')"
   ]
  },
  {
   "cell_type": "code",
   "execution_count": null,
   "id": "83b7a042",
   "metadata": {},
   "outputs": [],
   "source": [
    "len(data_days[names_pv[0]].values())"
   ]
  },
  {
   "cell_type": "code",
   "execution_count": null,
   "id": "2684bbf2",
   "metadata": {},
   "outputs": [],
   "source": [
    "len(y_d)"
   ]
  },
  {
   "cell_type": "code",
   "execution_count": null,
   "id": "56ccaab9",
   "metadata": {},
   "outputs": [],
   "source": [
    "hh = 0\n",
    "for i in x_d:\n",
    "    print(hh,i)\n",
    "    hh = hh+1"
   ]
  },
  {
   "cell_type": "code",
   "execution_count": null,
   "id": "9b1ce7d0",
   "metadata": {},
   "outputs": [],
   "source": []
  },
  {
   "cell_type": "code",
   "execution_count": null,
   "id": "989c05c9",
   "metadata": {},
   "outputs": [],
   "source": []
  },
  {
   "cell_type": "code",
   "execution_count": null,
   "id": "90e29435",
   "metadata": {},
   "outputs": [],
   "source": []
  },
  {
   "cell_type": "code",
   "execution_count": null,
   "id": "50fef02e",
   "metadata": {},
   "outputs": [],
   "source": []
  },
  {
   "cell_type": "code",
   "execution_count": null,
   "id": "70b31bdc",
   "metadata": {},
   "outputs": [],
   "source": []
  },
  {
   "cell_type": "code",
   "execution_count": null,
   "id": "62e27da8",
   "metadata": {},
   "outputs": [],
   "source": []
  },
  {
   "cell_type": "code",
   "execution_count": null,
   "id": "336b5b50",
   "metadata": {},
   "outputs": [],
   "source": []
  },
  {
   "cell_type": "code",
   "execution_count": null,
   "id": "86228759",
   "metadata": {},
   "outputs": [],
   "source": []
  },
  {
   "cell_type": "code",
   "execution_count": null,
   "id": "40156ee2",
   "metadata": {
    "scrolled": false
   },
   "outputs": [],
   "source": [
    "x_d ,y_d_a = func.get_daily_axes_from_modelChain_object(mc_A, 'System_A')\n",
    "_ ,y_d_b = func.get_daily_axes_from_modelChain_object(mc_B, 'System_B')\n",
    "_ ,y_d_c = func.get_daily_axes_from_modelChain_object(mc_C, 'System_C')\n",
    "_ ,y_d_d = func.get_daily_axes_from_modelChain_object(mc_D, 'System_D')\n",
    "_ ,y_d_e = func.get_daily_axes_from_modelChain_object(mc_E, 'System_E')\n",
    "_ ,y_d_f = func.get_daily_axes_from_modelChain_object(mc_F, 'System_F')\n",
    "\n",
    "y_d = [(a+b+c+d+e+f)/1000 for a,b,c,d,e,f in zip(y_d_a,y_d_b,y_d_c,y_d_d,y_d_e,y_d_f)]\n",
    "func.plot_2(x=x_d,\n",
    "          y=y_d,\n",
    "          y2=data,\n",
    "          size=(12,6),\n",
    "          save='si',\n",
    "          name_file='Sol_deSeptiembre_dias',\n",
    "          color='orange',\n",
    "          title='Generación',\n",
    "          x_label='Tiempo [Dias]',\n",
    "          y_label='Potencia acumulada [kw/h]')"
   ]
  },
  {
   "cell_type": "code",
   "execution_count": null,
   "id": "2b525fea",
   "metadata": {
    "scrolled": false
   },
   "outputs": [],
   "source": [
    "func.plot_1(x=mc_A.ac.iloc[0:].index,\n",
    "          y=mc_A.ac.iloc[0:].values+mc_B.ac.iloc[0:].values+mc_C.ac.iloc[0:].values+mc_D.ac.iloc[0:].values+mc_E.ac.iloc[0:].values+mc_F.ac.iloc[0:].values,\n",
    "          #y2=data,\n",
    "          size=(12,6),\n",
    "          save='si',\n",
    "          name_file='Sol_deSeptiembre_horas',\n",
    "          color='none',\n",
    "          title='Generación',\n",
    "          x_label='Tiempo [Horas]',\n",
    "          y_label='Potencia acumulada [kw/h]')"
   ]
  },
  {
   "cell_type": "code",
   "execution_count": null,
   "id": "d9d3ae3c",
   "metadata": {},
   "outputs": [],
   "source": [
    "#falta modificar la data de entrada para que se grafique por hora\n",
    "x_m, y_m_a = func.get_monthly_axes_from_modelChain_object(mc_A,'System_A')\n",
    "_, y_m_b = func.get_monthly_axes_from_modelChain_object(mc_B,'System_B')\n",
    "_, y_m_c = func.get_monthly_axes_from_modelChain_object(mc_C,'System_C')\n",
    "_, y_m_d = func.get_monthly_axes_from_modelChain_object(mc_D,'System_D')\n",
    "_, y_m_e = func.get_monthly_axes_from_modelChain_object(mc_E,'System_E')\n",
    "_, y_m_f = func.get_monthly_axes_from_modelChain_object(mc_F,'System_F')\n",
    "\n",
    "y_m = [a+b+c+d+e+f for a,b,c,d,e,f in zip(y_m_a,y_m_b,y_m_c,y_m_d,y_m_e,y_m_f)]\n",
    "\n",
    "func.plot_1(x=x_m,\n",
    "          y=y_m,\n",
    "          size=(12,6),\n",
    "          save='si',\n",
    "          name_file='Sol_deSeptiembre_meses',\n",
    "          color='red',\n",
    "          title='Generación',\n",
    "          x_label='Tiempo [Meses]',\n",
    "          y_label='Potencia acumulada [kw/h]')"
   ]
  },
  {
   "cell_type": "code",
   "execution_count": null,
   "id": "6b9fd099",
   "metadata": {},
   "outputs": [],
   "source": []
  },
  {
   "cell_type": "code",
   "execution_count": null,
   "id": "28cc59d8",
   "metadata": {
    "scrolled": true
   },
   "outputs": [],
   "source": [
    "textos_modulos = ['JA','320',''] # tienen que ser 3 textos\n",
    "textos_inversores = ['SMA','2000',''] # tiene que ser 3 textos\n",
    "c = func.buscador(textos_inversores,textos_modulos)\n",
    "\n",
    "for a in c:\n",
    "    print(a,\":\\n\")\n",
    "    for i in c[a]:\n",
    "        print(i)"
   ]
  },
  {
   "cell_type": "code",
   "execution_count": null,
   "id": "40eac276",
   "metadata": {},
   "outputs": [],
   "source": [
    "pvlib.pvsystem.retrieve_sam('cecMod').JA_Solar_JAP72S01_320_SC\n"
   ]
  },
  {
   "cell_type": "code",
   "execution_count": null,
   "id": "56b45d65",
   "metadata": {},
   "outputs": [],
   "source": [
    "pvlib.pvsystem.retrieve_sam('sandiainverter').SMA_America__SWR1800U__120V_\n",
    "pvlib.pvsystem.retrieve_sam('sandiainverter').SMA_America__SB2000HFUS_30__240V_\n",
    "\n",
    "\n"
   ]
  },
  {
   "cell_type": "code",
   "execution_count": null,
   "id": "40deee4f",
   "metadata": {},
   "outputs": [],
   "source": []
  },
  {
   "cell_type": "code",
   "execution_count": null,
   "id": "6f216589",
   "metadata": {},
   "outputs": [],
   "source": []
  }
 ],
 "metadata": {
  "kernelspec": {
   "display_name": "Python 3 (ipykernel)",
   "language": "python",
   "name": "python3"
  },
  "language_info": {
   "codemirror_mode": {
    "name": "ipython",
    "version": 3
   },
   "file_extension": ".py",
   "mimetype": "text/x-python",
   "name": "python",
   "nbconvert_exporter": "python",
   "pygments_lexer": "ipython3",
   "version": "3.8.12"
  }
 },
 "nbformat": 4,
 "nbformat_minor": 5
}
