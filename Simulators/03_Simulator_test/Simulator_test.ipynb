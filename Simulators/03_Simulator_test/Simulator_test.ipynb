{
 "cells": [
  {
   "cell_type": "markdown",
   "id": "4da03461",
   "metadata": {},
   "source": [
    "# Simulator PV Simulator_test\n",
    "\n",
    "- Author: Victor Muñoz\n",
    "- Collaborator: Nicolás Otárola\n",
    "- Pvlib_version: 0.9.0\n",
    "- Date : 24-01-2022 "
   ]
  },
  {
   "cell_type": "code",
   "execution_count": 1,
   "id": "4999f1a5",
   "metadata": {},
   "outputs": [],
   "source": [
    "# data science\n",
    "import numpy as np\n",
    "import pandas as pd\n",
    "import matplotlib.pyplot as plt\n",
    "\n",
    "# Photovoltaic systems\n",
    "import pvlib\n",
    "from pvlib.pvsystem import PVSystem\n",
    "from pvlib.location import Location\n",
    "from pvlib.modelchain import ModelChain\n",
    "\n",
    "# paths\n",
    "file_path_gen = '../../Data/Real_Generations_Data/'\n",
    "file_path_solcast = '../../Data/Solcast_Data/'\n",
    "file_path_func = '../../Functions/'\n",
    "\n",
    "# functions AND system photovoltaic\n",
    "import sys\n",
    "sys.path.append(file_path_gen)\n",
    "sys.path.append(file_path_solcast)\n",
    "sys.path.append(file_path_func)\n",
    "\n",
    "import functions as func\n",
    "import Simulator_test_config as pv\n",
    "\n",
    "import imp\n",
    "imp.reload(pv)\n",
    "imp.reload(func)\n",
    "\n",
    "# save graphics\n",
    "%matplotlib inline\n",
    "%matplotlib notebook\n",
    "\n",
    "#new library\n",
    "from pvlib.pvsystem import FixedMount\n",
    "from pvlib.temperature import TEMPERATURE_MODEL_PARAMETERS\n",
    "\n",
    "import bokeh as boken\n",
    "import bokeh.palettes as bkpalet #from bokeh.palettes import PuOr\n",
    "import bokeh.transform as bktrans # from bokeh.transform import cumsums"
   ]
  },
  {
   "cell_type": "code",
   "execution_count": 2,
   "id": "08ec644a",
   "metadata": {},
   "outputs": [],
   "source": [
    "temperature_model_parameters = TEMPERATURE_MODEL_PARAMETERS['sapm']['open_rack_glass_glass']"
   ]
  },
  {
   "cell_type": "markdown",
   "id": "f19242dc",
   "metadata": {},
   "source": [
    "## 1) Location , Module, Inverter, System and Model"
   ]
  },
  {
   "cell_type": "code",
   "execution_count": 3,
   "id": "edc44af3",
   "metadata": {},
   "outputs": [],
   "source": [
    "#Location\n",
    "loc = Location(latitude=pv.Location['lat'],\n",
    "               longitude=pv.Location['long'],\n",
    "               tz=pv.Location['tz'],\n",
    "               altitude=pv.Location['alt'])"
   ]
  },
  {
   "cell_type": "code",
   "execution_count": 4,
   "id": "9df90871",
   "metadata": {},
   "outputs": [],
   "source": [
    "#module\n",
    "module_310 = pd.Series(pv.JAP72S01_320,\n",
    "                       name=pv.JAP72S01_320['Name'])"
   ]
  },
  {
   "cell_type": "code",
   "execution_count": 5,
   "id": "c4fcd0ea",
   "metadata": {},
   "outputs": [],
   "source": [
    "#inverter\n",
    "inverter_800 = pd.Series(pv.SMA_America_SB2000HFUS,\n",
    "                            name=pv.SMA_America_SB2000HFUS['Name'])"
   ]
  },
  {
   "cell_type": "code",
   "execution_count": 7,
   "id": "1691fb4f",
   "metadata": {},
   "outputs": [],
   "source": [
    "#System\n",
    "system_A = PVSystem(module_parameters=module_310,\n",
    "                    inverter_parameters=inverter_800,\n",
    "                    surface_azimuth=pv.System['azimuth'],\n",
    "                    surface_tilt=pv.System['tilt'],\n",
    "                    temperature_model_parameters=temperature_model_parameters,\n",
    "                    modules_per_string=pv.System['m_p_s'],\n",
    "                    strings_per_inverter=pv.System['s_p_i']\n",
    "                   )\n",
    "\n",
    "system_B = PVSystem(module_parameters=module_310,\n",
    "                    inverter_parameters=inverter_800,\n",
    "                    surface_azimuth=pv.System['azimuth'],\n",
    "                    surface_tilt=pv.System['tilt'],\n",
    "                    temperature_model_parameters=temperature_model_parameters,\n",
    "                    modules_per_string=pv.System['m_p_s'],\n",
    "                    strings_per_inverter=pv.System['s_p_i']\n",
    "                   )\n",
    "\n",
    "system_C = PVSystem(module_parameters=module_310,\n",
    "                    inverter_parameters=inverter_800,\n",
    "                    surface_azimuth=pv.System['azimuth'],\n",
    "                    surface_tilt=pv.System['tilt'],\n",
    "                    temperature_model_parameters=temperature_model_parameters,\n",
    "                    modules_per_string=pv.System['m_p_s'],\n",
    "                    strings_per_inverter=pv.System['s_p_i']\n",
    "                   )\n",
    "\n",
    "system_D = PVSystem(module_parameters=module_310,\n",
    "                    inverter_parameters=inverter_800,\n",
    "                    surface_azimuth=pv.System['azimuth'],\n",
    "                    surface_tilt=pv.System['tilt'],\n",
    "                    temperature_model_parameters=temperature_model_parameters,\n",
    "                    modules_per_string=pv.System['m_p_s'],\n",
    "                    strings_per_inverter=pv.System['s_p_i']\n",
    "                   )\n",
    "\n",
    "system_E = PVSystem(module_parameters=module_310,\n",
    "                    inverter_parameters=inverter_800,\n",
    "                    surface_azimuth=pv.System['azimuth'],\n",
    "                    surface_tilt=pv.System['tilt'],\n",
    "                    temperature_model_parameters=temperature_model_parameters,\n",
    "                    modules_per_string=pv.System['m_p_s'],\n",
    "                    strings_per_inverter=pv.System['s_p_i']\n",
    "                   )\n",
    "\n",
    "system_F = PVSystem(module_parameters=module_310,\n",
    "                    inverter_parameters=inverter_800,\n",
    "                    surface_azimuth=pv.System['azimuth'],\n",
    "                    surface_tilt=pv.System['tilt'],\n",
    "                    temperature_model_parameters=temperature_model_parameters,\n",
    "                    modules_per_string=pv.System['m_p_s'],\n",
    "                    strings_per_inverter=pv.System['s_p_i']\n",
    "                   )\n",
    "\n",
    "system_G = PVSystem(module_parameters=module_310,\n",
    "                    inverter_parameters=inverter_800,\n",
    "                    surface_azimuth=pv.System['azimuth'],\n",
    "                    surface_tilt=pv.System['tilt'],\n",
    "                    temperature_model_parameters=temperature_model_parameters,\n",
    "                    modules_per_string=pv.System['m_p_s'],\n",
    "                    strings_per_inverter=pv.System['s_p_i']\n",
    "                   )\n",
    "\n",
    "system_H = PVSystem(module_parameters=module_310,\n",
    "                    inverter_parameters=inverter_800,\n",
    "                    surface_azimuth=pv.System['azimuth'],\n",
    "                    surface_tilt=pv.System['tilt'],\n",
    "                    temperature_model_parameters=temperature_model_parameters,\n",
    "                    modules_per_string=pv.System['m_p_s'],\n",
    "                    strings_per_inverter=pv.System['s_p_i']\n",
    "                   )\n"
   ]
  },
  {
   "cell_type": "code",
   "execution_count": 8,
   "id": "940eebe1",
   "metadata": {},
   "outputs": [],
   "source": [
    "#model\n",
    "mc_A = ModelChain(system_A, \n",
    "                  loc, \n",
    "                  aoi_model= 'physical' ,       # physical, no_loss\n",
    "                  spectral_model=\"no_loss\",    # no_loss\n",
    "                  dc_model='pvwatts',              # cec or pvwatts\n",
    "                  ac_model = 'pvwatts',        # snlinverter by pvwatts\n",
    "                  #temp_model='sapm',           # sapm\n",
    "                  #losses_model=\"pvwatts\",     # pvwatts\n",
    "                  name=\"system_A\")             # system_A\n",
    "\n",
    "mc_B = ModelChain(system_B, \n",
    "                  loc, \n",
    "                  aoi_model= 'physical' ,       # physical, no_loss\n",
    "                  spectral_model=\"no_loss\",    # no_loss\n",
    "                  dc_model='pvwatts',              # cec or pvwatts\n",
    "                  ac_model = 'pvwatts',        # snlinverter by pvwatts\n",
    "                  #temp_model='sapm',           # sapm\n",
    "                  #losses_model=\"pvwatts\",     # pvwatts\n",
    "                  name=\"system_B\")             # system_B\n",
    "\n",
    "mc_C = ModelChain(system_C, \n",
    "                  loc, \n",
    "                  aoi_model= 'physical' ,       # physical, no_loss\n",
    "                  spectral_model=\"no_loss\",    # no_loss\n",
    "                  dc_model='pvwatts',              # cec or pvwatts\n",
    "                  ac_model = 'pvwatts',        # snlinverter by pvwatts\n",
    "                  #temp_model='sapm',           # sapm\n",
    "                  #losses_model=\"pvwatts\",     # pvwatts\n",
    "                  name=\"system_C\")             # system_C\n",
    "\n",
    "mc_D = ModelChain(system_D, \n",
    "                  loc, \n",
    "                  aoi_model= 'physical' ,       # physical, no_loss\n",
    "                  spectral_model=\"no_loss\",    # no_loss\n",
    "                  dc_model='pvwatts',              # cec or pvwatts\n",
    "                  ac_model = 'pvwatts',        # snlinverter by pvwatts\n",
    "                  #temp_model='sapm',           # sapm\n",
    "                  #losses_model=\"pvwatts\",     # pvwatts\n",
    "                  name=\"system_D\")             # system_D\n",
    "\n",
    "mc_E = ModelChain(system_E, \n",
    "                  loc, \n",
    "                  aoi_model= 'physical' ,       # physical, no_loss\n",
    "                  spectral_model=\"no_loss\",    # no_loss\n",
    "                  dc_model='pvwatts',              # cec or pvwatts\n",
    "                  ac_model = 'pvwatts',        # snlinverter by pvwatts\n",
    "                  #temp_model='sapm',           # sapm\n",
    "                  #losses_model=\"pvwatts\",     # pvwatts\n",
    "                  name=\"system_E\")             # system_E\n",
    "\n",
    "mc_F = ModelChain(system_F, \n",
    "                  loc, \n",
    "                  aoi_model= 'physical' ,       # physical, no_loss\n",
    "                  spectral_model=\"no_loss\",    # no_loss\n",
    "                  dc_model='pvwatts',              # cec or pvwatts\n",
    "                  ac_model = 'pvwatts',        # snlinverter by pvwatts\n",
    "                  #temp_model='sapm',           # sapm\n",
    "                  #losses_model=\"pvwatts\",     # pvwatts\n",
    "                  name=\"system_F\")             # system_F\n",
    "\n",
    "mc_G = ModelChain(system_G, \n",
    "                  loc, \n",
    "                  aoi_model= 'physical' ,       # physical, no_loss\n",
    "                  spectral_model=\"no_loss\",    # no_loss\n",
    "                  dc_model='pvwatts',              # cec or pvwatts\n",
    "                  ac_model = 'pvwatts',        # snlinverter by pvwatts\n",
    "                  #temp_model='sapm',           # sapm\n",
    "                  #losses_model=\"pvwatts\",     # pvwatts\n",
    "                  name=\"system_G\")             # system_F\n",
    "\n",
    "mc_H = ModelChain(system_H, \n",
    "                  loc, \n",
    "                  aoi_model= 'physical' ,       # physical, no_loss\n",
    "                  spectral_model=\"no_loss\",    # no_loss\n",
    "                  dc_model='pvwatts',              # cec or pvwatts\n",
    "                  ac_model = 'pvwatts',        # snlinverter by pvwatts\n",
    "                  #temp_model='sapm',           # sapm\n",
    "                  #losses_model=\"pvwatts\",     # pvwatts\n",
    "                  name=\"system_H\")             # system_F\n"
   ]
  },
  {
   "cell_type": "markdown",
   "id": "ee0d5805",
   "metadata": {},
   "source": [
    "## 2) Data Weather Solcast and Generacion solar"
   ]
  },
  {
   "cell_type": "code",
   "execution_count": 11,
   "id": "566b0000",
   "metadata": {},
   "outputs": [
    {
     "ename": "FileNotFoundError",
     "evalue": "[Errno 2] No such file or directory: '../../Data/Solcast_Data/encon_solar2.csv'",
     "output_type": "error",
     "traceback": [
      "\u001b[0;31m---------------------------------------------------------------------------\u001b[0m",
      "\u001b[0;31mFileNotFoundError\u001b[0m                         Traceback (most recent call last)",
      "\u001b[0;32m/tmp/ipykernel_370/3167313711.py\u001b[0m in \u001b[0;36m<module>\u001b[0;34m\u001b[0m\n\u001b[1;32m      1\u001b[0m \u001b[0;31m# Weather Solcast\u001b[0m\u001b[0;34m\u001b[0m\u001b[0;34m\u001b[0m\u001b[0m\n\u001b[1;32m      2\u001b[0m \u001b[0mname_csv\u001b[0m \u001b[0;34m=\u001b[0m \u001b[0;34m'encon_solar2.csv'\u001b[0m\u001b[0;34m\u001b[0m\u001b[0;34m\u001b[0m\u001b[0m\n\u001b[0;32m----> 3\u001b[0;31m \u001b[0msolcast\u001b[0m \u001b[0;34m=\u001b[0m \u001b[0mfunc\u001b[0m\u001b[0;34m.\u001b[0m\u001b[0mweather_solcast_2\u001b[0m\u001b[0;34m(\u001b[0m\u001b[0mfile_path_solcast\u001b[0m\u001b[0;34m+\u001b[0m\u001b[0mname_csv\u001b[0m\u001b[0;34m)\u001b[0m\u001b[0;34m\u001b[0m\u001b[0;34m\u001b[0m\u001b[0m\n\u001b[0m\u001b[1;32m      4\u001b[0m \u001b[0mweather_columns\u001b[0m \u001b[0;34m=\u001b[0m \u001b[0;34m[\u001b[0m\u001b[0;34m'ghi'\u001b[0m\u001b[0;34m,\u001b[0m\u001b[0;34m'dni'\u001b[0m\u001b[0;34m,\u001b[0m\u001b[0;34m'dhi'\u001b[0m\u001b[0;34m,\u001b[0m\u001b[0;34m'temp_air'\u001b[0m\u001b[0;34m,\u001b[0m \u001b[0;34m'wind_speed'\u001b[0m\u001b[0;34m,\u001b[0m\u001b[0;34m'ebh'\u001b[0m\u001b[0;34m,\u001b[0m\u001b[0;34m'azimuth'\u001b[0m\u001b[0;34m,\u001b[0m\u001b[0;34m'cloud_opacity'\u001b[0m\u001b[0;34m,\u001b[0m\u001b[0;34m'zenith'\u001b[0m\u001b[0;34m,\u001b[0m\u001b[0;34m'relative_humidity'\u001b[0m\u001b[0;34m]\u001b[0m\u001b[0;34m\u001b[0m\u001b[0;34m\u001b[0m\u001b[0m\n\u001b[1;32m      5\u001b[0m \u001b[0mtimes\u001b[0m\u001b[0;34m,\u001b[0m \u001b[0mweather\u001b[0m \u001b[0;34m=\u001b[0m \u001b[0mfunc\u001b[0m\u001b[0;34m.\u001b[0m\u001b[0mget_times_weather\u001b[0m\u001b[0;34m(\u001b[0m\u001b[0msolcast\u001b[0m\u001b[0;34m,\u001b[0m\u001b[0mloc\u001b[0m\u001b[0;34m,\u001b[0m\u001b[0mweather_columns\u001b[0m\u001b[0;34m)\u001b[0m\u001b[0;34m\u001b[0m\u001b[0;34m\u001b[0m\u001b[0m\n",
      "\u001b[0;32m/mnt/c/Users/56995/desktop/simulador-plantas-solares/simulator_v04/Simulators/03_Simulator_test/../../Functions/functions.py\u001b[0m in \u001b[0;36mweather_solcast_2\u001b[0;34m(r)\u001b[0m\n\u001b[1;32m    417\u001b[0m     \u001b[0;31m##PeriodEnd,PeriodStart,Period,AirTemp,Azimuth,CloudOpacity,Dhi,Dni,Ebh,Ghi,GtiFixedTilt,GtiTracking,WindSpeed10m,Zenith\u001b[0m\u001b[0;34m\u001b[0m\u001b[0;34m\u001b[0m\u001b[0m\n\u001b[1;32m    418\u001b[0m \u001b[0;34m\u001b[0m\u001b[0m\n\u001b[0;32m--> 419\u001b[0;31m     \u001b[0mss\u001b[0m \u001b[0;34m=\u001b[0m \u001b[0mpd\u001b[0m\u001b[0;34m.\u001b[0m\u001b[0mread_csv\u001b[0m\u001b[0;34m(\u001b[0m\u001b[0mr\u001b[0m\u001b[0;34m,\u001b[0m\u001b[0mheader\u001b[0m\u001b[0;34m=\u001b[0m\u001b[0;36m0\u001b[0m\u001b[0;34m,\u001b[0m\u001b[0mnames\u001b[0m\u001b[0;34m=\u001b[0m\u001b[0mcolumns\u001b[0m\u001b[0;34m)\u001b[0m\u001b[0;34m\u001b[0m\u001b[0;34m\u001b[0m\u001b[0m\n\u001b[0m\u001b[1;32m    420\u001b[0m     \u001b[0mformat\u001b[0m \u001b[0;34m=\u001b[0m \u001b[0;34m'%Y-%m-%d %H:%M:%S'\u001b[0m\u001b[0;34m\u001b[0m\u001b[0;34m\u001b[0m\u001b[0m\n\u001b[1;32m    421\u001b[0m     \u001b[0mss\u001b[0m\u001b[0;34m[\u001b[0m\u001b[0;34m'utc_time'\u001b[0m\u001b[0;34m]\u001b[0m \u001b[0;34m=\u001b[0m \u001b[0mpd\u001b[0m\u001b[0;34m.\u001b[0m\u001b[0mto_datetime\u001b[0m\u001b[0;34m(\u001b[0m\u001b[0mss\u001b[0m\u001b[0;34m[\u001b[0m\u001b[0;34m'utc_time'\u001b[0m\u001b[0;34m]\u001b[0m\u001b[0;34m,\u001b[0m\u001b[0minfer_datetime_format\u001b[0m\u001b[0;34m=\u001b[0m\u001b[0;32mTrue\u001b[0m\u001b[0;34m)\u001b[0m\u001b[0;34m\u001b[0m\u001b[0;34m\u001b[0m\u001b[0m\n",
      "\u001b[0;32m~/anaconda3/envs/simulador/lib/python3.9/site-packages/pandas/util/_decorators.py\u001b[0m in \u001b[0;36mwrapper\u001b[0;34m(*args, **kwargs)\u001b[0m\n\u001b[1;32m    309\u001b[0m                     \u001b[0mstacklevel\u001b[0m\u001b[0;34m=\u001b[0m\u001b[0mstacklevel\u001b[0m\u001b[0;34m,\u001b[0m\u001b[0;34m\u001b[0m\u001b[0;34m\u001b[0m\u001b[0m\n\u001b[1;32m    310\u001b[0m                 )\n\u001b[0;32m--> 311\u001b[0;31m             \u001b[0;32mreturn\u001b[0m \u001b[0mfunc\u001b[0m\u001b[0;34m(\u001b[0m\u001b[0;34m*\u001b[0m\u001b[0margs\u001b[0m\u001b[0;34m,\u001b[0m \u001b[0;34m**\u001b[0m\u001b[0mkwargs\u001b[0m\u001b[0;34m)\u001b[0m\u001b[0;34m\u001b[0m\u001b[0;34m\u001b[0m\u001b[0m\n\u001b[0m\u001b[1;32m    312\u001b[0m \u001b[0;34m\u001b[0m\u001b[0m\n\u001b[1;32m    313\u001b[0m         \u001b[0;32mreturn\u001b[0m \u001b[0mwrapper\u001b[0m\u001b[0;34m\u001b[0m\u001b[0;34m\u001b[0m\u001b[0m\n",
      "\u001b[0;32m~/anaconda3/envs/simulador/lib/python3.9/site-packages/pandas/io/parsers/readers.py\u001b[0m in \u001b[0;36mread_csv\u001b[0;34m(filepath_or_buffer, sep, delimiter, header, names, index_col, usecols, squeeze, prefix, mangle_dupe_cols, dtype, engine, converters, true_values, false_values, skipinitialspace, skiprows, skipfooter, nrows, na_values, keep_default_na, na_filter, verbose, skip_blank_lines, parse_dates, infer_datetime_format, keep_date_col, date_parser, dayfirst, cache_dates, iterator, chunksize, compression, thousands, decimal, lineterminator, quotechar, quoting, doublequote, escapechar, comment, encoding, encoding_errors, dialect, error_bad_lines, warn_bad_lines, on_bad_lines, delim_whitespace, low_memory, memory_map, float_precision, storage_options)\u001b[0m\n\u001b[1;32m    584\u001b[0m     \u001b[0mkwds\u001b[0m\u001b[0;34m.\u001b[0m\u001b[0mupdate\u001b[0m\u001b[0;34m(\u001b[0m\u001b[0mkwds_defaults\u001b[0m\u001b[0;34m)\u001b[0m\u001b[0;34m\u001b[0m\u001b[0;34m\u001b[0m\u001b[0m\n\u001b[1;32m    585\u001b[0m \u001b[0;34m\u001b[0m\u001b[0m\n\u001b[0;32m--> 586\u001b[0;31m     \u001b[0;32mreturn\u001b[0m \u001b[0m_read\u001b[0m\u001b[0;34m(\u001b[0m\u001b[0mfilepath_or_buffer\u001b[0m\u001b[0;34m,\u001b[0m \u001b[0mkwds\u001b[0m\u001b[0;34m)\u001b[0m\u001b[0;34m\u001b[0m\u001b[0;34m\u001b[0m\u001b[0m\n\u001b[0m\u001b[1;32m    587\u001b[0m \u001b[0;34m\u001b[0m\u001b[0m\n\u001b[1;32m    588\u001b[0m \u001b[0;34m\u001b[0m\u001b[0m\n",
      "\u001b[0;32m~/anaconda3/envs/simulador/lib/python3.9/site-packages/pandas/io/parsers/readers.py\u001b[0m in \u001b[0;36m_read\u001b[0;34m(filepath_or_buffer, kwds)\u001b[0m\n\u001b[1;32m    480\u001b[0m \u001b[0;34m\u001b[0m\u001b[0m\n\u001b[1;32m    481\u001b[0m     \u001b[0;31m# Create the parser.\u001b[0m\u001b[0;34m\u001b[0m\u001b[0;34m\u001b[0m\u001b[0m\n\u001b[0;32m--> 482\u001b[0;31m     \u001b[0mparser\u001b[0m \u001b[0;34m=\u001b[0m \u001b[0mTextFileReader\u001b[0m\u001b[0;34m(\u001b[0m\u001b[0mfilepath_or_buffer\u001b[0m\u001b[0;34m,\u001b[0m \u001b[0;34m**\u001b[0m\u001b[0mkwds\u001b[0m\u001b[0;34m)\u001b[0m\u001b[0;34m\u001b[0m\u001b[0;34m\u001b[0m\u001b[0m\n\u001b[0m\u001b[1;32m    483\u001b[0m \u001b[0;34m\u001b[0m\u001b[0m\n\u001b[1;32m    484\u001b[0m     \u001b[0;32mif\u001b[0m \u001b[0mchunksize\u001b[0m \u001b[0;32mor\u001b[0m \u001b[0miterator\u001b[0m\u001b[0;34m:\u001b[0m\u001b[0;34m\u001b[0m\u001b[0;34m\u001b[0m\u001b[0m\n",
      "\u001b[0;32m~/anaconda3/envs/simulador/lib/python3.9/site-packages/pandas/io/parsers/readers.py\u001b[0m in \u001b[0;36m__init__\u001b[0;34m(self, f, engine, **kwds)\u001b[0m\n\u001b[1;32m    809\u001b[0m             \u001b[0mself\u001b[0m\u001b[0;34m.\u001b[0m\u001b[0moptions\u001b[0m\u001b[0;34m[\u001b[0m\u001b[0;34m\"has_index_names\"\u001b[0m\u001b[0;34m]\u001b[0m \u001b[0;34m=\u001b[0m \u001b[0mkwds\u001b[0m\u001b[0;34m[\u001b[0m\u001b[0;34m\"has_index_names\"\u001b[0m\u001b[0;34m]\u001b[0m\u001b[0;34m\u001b[0m\u001b[0;34m\u001b[0m\u001b[0m\n\u001b[1;32m    810\u001b[0m \u001b[0;34m\u001b[0m\u001b[0m\n\u001b[0;32m--> 811\u001b[0;31m         \u001b[0mself\u001b[0m\u001b[0;34m.\u001b[0m\u001b[0m_engine\u001b[0m \u001b[0;34m=\u001b[0m \u001b[0mself\u001b[0m\u001b[0;34m.\u001b[0m\u001b[0m_make_engine\u001b[0m\u001b[0;34m(\u001b[0m\u001b[0mself\u001b[0m\u001b[0;34m.\u001b[0m\u001b[0mengine\u001b[0m\u001b[0;34m)\u001b[0m\u001b[0;34m\u001b[0m\u001b[0;34m\u001b[0m\u001b[0m\n\u001b[0m\u001b[1;32m    812\u001b[0m \u001b[0;34m\u001b[0m\u001b[0m\n\u001b[1;32m    813\u001b[0m     \u001b[0;32mdef\u001b[0m \u001b[0mclose\u001b[0m\u001b[0;34m(\u001b[0m\u001b[0mself\u001b[0m\u001b[0;34m)\u001b[0m\u001b[0;34m:\u001b[0m\u001b[0;34m\u001b[0m\u001b[0;34m\u001b[0m\u001b[0m\n",
      "\u001b[0;32m~/anaconda3/envs/simulador/lib/python3.9/site-packages/pandas/io/parsers/readers.py\u001b[0m in \u001b[0;36m_make_engine\u001b[0;34m(self, engine)\u001b[0m\n\u001b[1;32m   1038\u001b[0m             )\n\u001b[1;32m   1039\u001b[0m         \u001b[0;31m# error: Too many arguments for \"ParserBase\"\u001b[0m\u001b[0;34m\u001b[0m\u001b[0;34m\u001b[0m\u001b[0m\n\u001b[0;32m-> 1040\u001b[0;31m         \u001b[0;32mreturn\u001b[0m \u001b[0mmapping\u001b[0m\u001b[0;34m[\u001b[0m\u001b[0mengine\u001b[0m\u001b[0;34m]\u001b[0m\u001b[0;34m(\u001b[0m\u001b[0mself\u001b[0m\u001b[0;34m.\u001b[0m\u001b[0mf\u001b[0m\u001b[0;34m,\u001b[0m \u001b[0;34m**\u001b[0m\u001b[0mself\u001b[0m\u001b[0;34m.\u001b[0m\u001b[0moptions\u001b[0m\u001b[0;34m)\u001b[0m  \u001b[0;31m# type: ignore[call-arg]\u001b[0m\u001b[0;34m\u001b[0m\u001b[0;34m\u001b[0m\u001b[0m\n\u001b[0m\u001b[1;32m   1041\u001b[0m \u001b[0;34m\u001b[0m\u001b[0m\n\u001b[1;32m   1042\u001b[0m     \u001b[0;32mdef\u001b[0m \u001b[0m_failover_to_python\u001b[0m\u001b[0;34m(\u001b[0m\u001b[0mself\u001b[0m\u001b[0;34m)\u001b[0m\u001b[0;34m:\u001b[0m\u001b[0;34m\u001b[0m\u001b[0;34m\u001b[0m\u001b[0m\n",
      "\u001b[0;32m~/anaconda3/envs/simulador/lib/python3.9/site-packages/pandas/io/parsers/c_parser_wrapper.py\u001b[0m in \u001b[0;36m__init__\u001b[0;34m(self, src, **kwds)\u001b[0m\n\u001b[1;32m     49\u001b[0m \u001b[0;34m\u001b[0m\u001b[0m\n\u001b[1;32m     50\u001b[0m         \u001b[0;31m# open handles\u001b[0m\u001b[0;34m\u001b[0m\u001b[0;34m\u001b[0m\u001b[0m\n\u001b[0;32m---> 51\u001b[0;31m         \u001b[0mself\u001b[0m\u001b[0;34m.\u001b[0m\u001b[0m_open_handles\u001b[0m\u001b[0;34m(\u001b[0m\u001b[0msrc\u001b[0m\u001b[0;34m,\u001b[0m \u001b[0mkwds\u001b[0m\u001b[0;34m)\u001b[0m\u001b[0;34m\u001b[0m\u001b[0;34m\u001b[0m\u001b[0m\n\u001b[0m\u001b[1;32m     52\u001b[0m         \u001b[0;32massert\u001b[0m \u001b[0mself\u001b[0m\u001b[0;34m.\u001b[0m\u001b[0mhandles\u001b[0m \u001b[0;32mis\u001b[0m \u001b[0;32mnot\u001b[0m \u001b[0;32mNone\u001b[0m\u001b[0;34m\u001b[0m\u001b[0;34m\u001b[0m\u001b[0m\n\u001b[1;32m     53\u001b[0m \u001b[0;34m\u001b[0m\u001b[0m\n",
      "\u001b[0;32m~/anaconda3/envs/simulador/lib/python3.9/site-packages/pandas/io/parsers/base_parser.py\u001b[0m in \u001b[0;36m_open_handles\u001b[0;34m(self, src, kwds)\u001b[0m\n\u001b[1;32m    220\u001b[0m         \u001b[0mLet\u001b[0m \u001b[0mthe\u001b[0m \u001b[0mreaders\u001b[0m \u001b[0mopen\u001b[0m \u001b[0mIOHandles\u001b[0m \u001b[0mafter\u001b[0m \u001b[0mthey\u001b[0m \u001b[0mare\u001b[0m \u001b[0mdone\u001b[0m \u001b[0;32mwith\u001b[0m \u001b[0mtheir\u001b[0m \u001b[0mpotential\u001b[0m \u001b[0mraises\u001b[0m\u001b[0;34m.\u001b[0m\u001b[0;34m\u001b[0m\u001b[0;34m\u001b[0m\u001b[0m\n\u001b[1;32m    221\u001b[0m         \"\"\"\n\u001b[0;32m--> 222\u001b[0;31m         self.handles = get_handle(\n\u001b[0m\u001b[1;32m    223\u001b[0m             \u001b[0msrc\u001b[0m\u001b[0;34m,\u001b[0m\u001b[0;34m\u001b[0m\u001b[0;34m\u001b[0m\u001b[0m\n\u001b[1;32m    224\u001b[0m             \u001b[0;34m\"r\"\u001b[0m\u001b[0;34m,\u001b[0m\u001b[0;34m\u001b[0m\u001b[0;34m\u001b[0m\u001b[0m\n",
      "\u001b[0;32m~/anaconda3/envs/simulador/lib/python3.9/site-packages/pandas/io/common.py\u001b[0m in \u001b[0;36mget_handle\u001b[0;34m(path_or_buf, mode, encoding, compression, memory_map, is_text, errors, storage_options)\u001b[0m\n\u001b[1;32m    700\u001b[0m         \u001b[0;32mif\u001b[0m \u001b[0mioargs\u001b[0m\u001b[0;34m.\u001b[0m\u001b[0mencoding\u001b[0m \u001b[0;32mand\u001b[0m \u001b[0;34m\"b\"\u001b[0m \u001b[0;32mnot\u001b[0m \u001b[0;32min\u001b[0m \u001b[0mioargs\u001b[0m\u001b[0;34m.\u001b[0m\u001b[0mmode\u001b[0m\u001b[0;34m:\u001b[0m\u001b[0;34m\u001b[0m\u001b[0;34m\u001b[0m\u001b[0m\n\u001b[1;32m    701\u001b[0m             \u001b[0;31m# Encoding\u001b[0m\u001b[0;34m\u001b[0m\u001b[0;34m\u001b[0m\u001b[0m\n\u001b[0;32m--> 702\u001b[0;31m             handle = open(\n\u001b[0m\u001b[1;32m    703\u001b[0m                 \u001b[0mhandle\u001b[0m\u001b[0;34m,\u001b[0m\u001b[0;34m\u001b[0m\u001b[0;34m\u001b[0m\u001b[0m\n\u001b[1;32m    704\u001b[0m                 \u001b[0mioargs\u001b[0m\u001b[0;34m.\u001b[0m\u001b[0mmode\u001b[0m\u001b[0;34m,\u001b[0m\u001b[0;34m\u001b[0m\u001b[0;34m\u001b[0m\u001b[0m\n",
      "\u001b[0;31mFileNotFoundError\u001b[0m: [Errno 2] No such file or directory: '../../Data/Solcast_Data/encon_solar2.csv'"
     ]
    }
   ],
   "source": [
    "# Weather Solcast\n",
    "name_csv = 'encon_solar2.csv'\n",
    "solcast = func.weather_solcast_2(file_path_solcast+name_csv)\n",
    "weather_columns = ['ghi','dni','dhi','temp_air', 'wind_speed','ebh','azimuth','cloud_opacity','zenith','relative_humidity']\n",
    "times, weather = func.get_times_weather(solcast,loc,weather_columns)\n",
    "\n",
    "#para que conincidan los largos\n",
    "#to-do: automatizacion/refactoring\n",
    "\n",
    "print(len(times[1175:-23]))\n",
    "print(times[1175:-23])\n",
    "\n",
    "print(len(weather[1175:-23]))\n",
    "#print(weather[1075:-23])\n",
    "\n",
    "times = times[1175:-23]\n",
    "weather = weather[1175:-23]"
   ]
  },
  {
   "cell_type": "code",
   "execution_count": 12,
   "id": "05776e91",
   "metadata": {},
   "outputs": [
    {
     "name": "stdout",
     "output_type": "stream",
     "text": [
      "Pickle found in: ../../Data/Real_Generations_Data/Real_Generations.pickle\n",
      "Returning data\n"
     ]
    }
   ],
   "source": [
    "# read pickle\n",
    "file_name = 'Real_Generations'\n",
    "file_ext = 'xlsx'\n",
    "data_pickle = func.data_to_pickle(file_path_gen,file_name,file_ext)"
   ]
  },
  {
   "cell_type": "code",
   "execution_count": null,
   "id": "6956a398",
   "metadata": {},
   "outputs": [],
   "source": [
    "# names to seach\n",
    "names_pv = ['PMGD PFV ENCON SOLAR']"
   ]
  },
  {
   "cell_type": "code",
   "execution_count": null,
   "id": "7e3f43fc",
   "metadata": {},
   "outputs": [],
   "source": [
    "# find hourly logs for each name\n",
    "data_hours = func.filter_hour_from_dataFrame(data=data_pickle,\n",
    "                                      #columns_names=[],\n",
    "                                      #column_fecha='Fecha'\n",
    "                                      #column_central='Central',\n",
    "                                      #first_year=2021,\n",
    "                                      #last_year=2021,\n",
    "                                      names_pv=names_pv,\n",
    "                                      #months=[7,8,9,10,11,12],\n",
    "                                      multi = 1000,\n",
    "                                      p = False)"
   ]
  },
  {
   "cell_type": "code",
   "execution_count": null,
   "id": "c8758539",
   "metadata": {},
   "outputs": [],
   "source": [
    "func.graph(data=data_hours,\n",
    "           x_label= 'Year [H]',\n",
    "           y_label='Power [MW/H]',\n",
    "           name='hour')"
   ]
  },
  {
   "cell_type": "code",
   "execution_count": null,
   "id": "b12946e8",
   "metadata": {
    "scrolled": true
   },
   "outputs": [],
   "source": [
    "# find daily logs for each name\n",
    "data_days = func.filter_day_from_dataFrame(data=data_pickle,\n",
    "                                      #column_fecha='Fecha'\n",
    "                                      #column_total='Total'\n",
    "                                      #column_central='Central',\n",
    "                                      #first_year=2021,\n",
    "                                      #last_year=2021,\n",
    "                                      names_pv=names_pv,\n",
    "                                      #months=[7,8,9,10,11,12],\n",
    "                                      multi = 1000,\n",
    "                                      p = False)"
   ]
  },
  {
   "cell_type": "code",
   "execution_count": null,
   "id": "85aa9ebc",
   "metadata": {},
   "outputs": [],
   "source": [
    "pp = 0\n",
    "for i in data_days[names_pv[0]]:\n",
    "    print(pp,i,data_days[names_pv[0]][i])\n",
    "    pp = pp + 1"
   ]
  },
  {
   "cell_type": "code",
   "execution_count": null,
   "id": "6a34554c",
   "metadata": {},
   "outputs": [],
   "source": [
    "c = []\n",
    "for i in data_days[names_pv[0]]:\n",
    "    c.append(i)\n",
    "    \n",
    "for i in range(43):\n",
    "    print(data_days[names_pv[0]].pop(c[i]))"
   ]
  },
  {
   "cell_type": "code",
   "execution_count": null,
   "id": "24658ad9",
   "metadata": {},
   "outputs": [],
   "source": [
    "pp = 0\n",
    "for i in data_days[names_pv[0]]:\n",
    "    print(pp,i,data_days[names_pv[0]][i])\n",
    "    pp = pp + 1"
   ]
  },
  {
   "cell_type": "code",
   "execution_count": null,
   "id": "fa1518fe",
   "metadata": {
    "scrolled": false
   },
   "outputs": [],
   "source": [
    "func.graph(data=data_days,\n",
    "           x_label= 'Year [D]',\n",
    "           y_label='Power [MW/D]',\n",
    "           name='days')"
   ]
  },
  {
   "cell_type": "code",
   "execution_count": null,
   "id": "ae0d4787",
   "metadata": {
    "scrolled": true
   },
   "outputs": [],
   "source": [
    "data = data_days[names_pv[0]].values()\n",
    "len(data)"
   ]
  },
  {
   "cell_type": "markdown",
   "id": "bc09febc",
   "metadata": {},
   "source": [
    "## 3) Simulate"
   ]
  },
  {
   "cell_type": "code",
   "execution_count": null,
   "id": "871c0fcc",
   "metadata": {
    "scrolled": true
   },
   "outputs": [],
   "source": [
    "# Run model\n",
    "#weather = pd.DataFrame([[1050,1000,100,30,5]],\n",
    "#                      columns = ['ghi','dni','dhi','temp_air','wind_speed'],\n",
    "#                      index=[pd.Timestamp('20170401 1200', tz='US/Arizona')])\n",
    "mc_A.run_model(weather=weather)\n",
    "mc_B.run_model(weather=weather)\n",
    "mc_C.run_model(weather=weather)\n",
    "mc_D.run_model(weather=weather)\n",
    "mc_E.run_model(weather=weather)\n",
    "mc_F.run_model(weather=weather)\n",
    "mc_G.run_model(weather=weather)\n",
    "mc_H.run_model(weather=weather)\n",
    "\n"
   ]
  },
  {
   "cell_type": "markdown",
   "id": "6f9a7a15",
   "metadata": {},
   "source": [
    "## 4) Graphics"
   ]
  },
  {
   "cell_type": "code",
   "execution_count": null,
   "id": "2c11b613",
   "metadata": {
    "scrolled": false
   },
   "outputs": [],
   "source": [
    "x_d ,y_d_a = func.get_daily_axes_from_modelChain_object(mc_A, 'System_A')\n",
    "_ ,y_d_b = func.get_daily_axes_from_modelChain_object(mc_B, 'System_B')\n",
    "_ ,y_d_c = func.get_daily_axes_from_modelChain_object(mc_C, 'System_C')\n",
    "_ ,y_d_d = func.get_daily_axes_from_modelChain_object(mc_D, 'System_D')\n",
    "_ ,y_d_e = func.get_daily_axes_from_modelChain_object(mc_E, 'System_E')\n",
    "_ ,y_d_f = func.get_daily_axes_from_modelChain_object(mc_F, 'System_F')\n",
    "_ ,y_d_g = func.get_daily_axes_from_modelChain_object(mc_F, 'System_G')\n",
    "_ ,y_d_h = func.get_daily_axes_from_modelChain_object(mc_F, 'System_H')\n",
    "\n",
    "y_d = [(a+b+c+d+e)/1000 for a,b,c,d,e in zip(y_d_a,y_d_b,y_d_c,y_d_d,y_d_e)]\n",
    "func.plot_2(x=x_d,\n",
    "          y=y_d,\n",
    "          y2=data,\n",
    "          size=(12,6),\n",
    "          save='si',\n",
    "          name_file='ENCON_SOLAR_dias',\n",
    "          color='orange',\n",
    "          title='Generación',\n",
    "          x_label='Tiempo [Dias]',\n",
    "          y_label='Potencia acumulada [kw/h]')"
   ]
  },
  {
   "cell_type": "code",
   "execution_count": null,
   "id": "83b7a042",
   "metadata": {},
   "outputs": [],
   "source": [
    "len(data_days[names_pv[0]].values())"
   ]
  },
  {
   "cell_type": "code",
   "execution_count": null,
   "id": "2684bbf2",
   "metadata": {},
   "outputs": [],
   "source": [
    "len(y_d)"
   ]
  },
  {
   "cell_type": "code",
   "execution_count": null,
   "id": "56ccaab9",
   "metadata": {},
   "outputs": [],
   "source": [
    "hh = 0\n",
    "for i in x_d:\n",
    "    print(hh,i)\n",
    "    hh = hh+1"
   ]
  },
  {
   "cell_type": "code",
   "execution_count": null,
   "id": "9b1ce7d0",
   "metadata": {},
   "outputs": [],
   "source": []
  },
  {
   "cell_type": "code",
   "execution_count": null,
   "id": "989c05c9",
   "metadata": {},
   "outputs": [],
   "source": []
  },
  {
   "cell_type": "code",
   "execution_count": null,
   "id": "90e29435",
   "metadata": {},
   "outputs": [],
   "source": []
  },
  {
   "cell_type": "code",
   "execution_count": null,
   "id": "50fef02e",
   "metadata": {},
   "outputs": [],
   "source": []
  },
  {
   "cell_type": "code",
   "execution_count": null,
   "id": "70b31bdc",
   "metadata": {},
   "outputs": [],
   "source": []
  },
  {
   "cell_type": "code",
   "execution_count": null,
   "id": "62e27da8",
   "metadata": {},
   "outputs": [],
   "source": []
  },
  {
   "cell_type": "code",
   "execution_count": null,
   "id": "336b5b50",
   "metadata": {},
   "outputs": [],
   "source": []
  },
  {
   "cell_type": "code",
   "execution_count": null,
   "id": "86228759",
   "metadata": {},
   "outputs": [],
   "source": []
  },
  {
   "cell_type": "code",
   "execution_count": null,
   "id": "40156ee2",
   "metadata": {
    "scrolled": false
   },
   "outputs": [],
   "source": [
    "x_d ,y_d_a = func.get_daily_axes_from_modelChain_object(mc_A, 'System_A')\n",
    "_ ,y_d_b = func.get_daily_axes_from_modelChain_object(mc_B, 'System_B')\n",
    "_ ,y_d_c = func.get_daily_axes_from_modelChain_object(mc_C, 'System_C')\n",
    "_ ,y_d_d = func.get_daily_axes_from_modelChain_object(mc_D, 'System_D')\n",
    "_ ,y_d_e = func.get_daily_axes_from_modelChain_object(mc_E, 'System_E')\n",
    "_ ,y_d_f = func.get_daily_axes_from_modelChain_object(mc_F, 'System_F')\n",
    "\n",
    "y_d = [(a+b+c+d+e+f)/1000 for a,b,c,d,e,f in zip(y_d_a,y_d_b,y_d_c,y_d_d,y_d_e,y_d_f)]\n",
    "func.plot_2(x=x_d,\n",
    "          y=y_d,\n",
    "          y2=data,\n",
    "          size=(12,6),\n",
    "          save='si',\n",
    "          name_file='Sol_deSeptiembre_dias',\n",
    "          color='orange',\n",
    "          title='Generación',\n",
    "          x_label='Tiempo [Dias]',\n",
    "          y_label='Potencia acumulada [kw/h]')"
   ]
  },
  {
   "cell_type": "code",
   "execution_count": null,
   "id": "2b525fea",
   "metadata": {
    "scrolled": false
   },
   "outputs": [],
   "source": [
    "func.plot_1(x=mc_A.ac.iloc[0:].index,\n",
    "          y=mc_A.ac.iloc[0:].values+mc_B.ac.iloc[0:].values+mc_C.ac.iloc[0:].values+mc_D.ac.iloc[0:].values+mc_E.ac.iloc[0:].values+mc_F.ac.iloc[0:].values,\n",
    "          #y2=data,\n",
    "          size=(12,6),\n",
    "          save='si',\n",
    "          name_file='Sol_deSeptiembre_horas',\n",
    "          color='none',\n",
    "          title='Generación',\n",
    "          x_label='Tiempo [Horas]',\n",
    "          y_label='Potencia acumulada [kw/h]')"
   ]
  },
  {
   "cell_type": "code",
   "execution_count": null,
   "id": "d9d3ae3c",
   "metadata": {},
   "outputs": [],
   "source": [
    "#falta modificar la data de entrada para que se grafique por hora\n",
    "x_m, y_m_a = func.get_monthly_axes_from_modelChain_object(mc_A,'System_A')\n",
    "_, y_m_b = func.get_monthly_axes_from_modelChain_object(mc_B,'System_B')\n",
    "_, y_m_c = func.get_monthly_axes_from_modelChain_object(mc_C,'System_C')\n",
    "_, y_m_d = func.get_monthly_axes_from_modelChain_object(mc_D,'System_D')\n",
    "_, y_m_e = func.get_monthly_axes_from_modelChain_object(mc_E,'System_E')\n",
    "_, y_m_f = func.get_monthly_axes_from_modelChain_object(mc_F,'System_F')\n",
    "\n",
    "y_m = [a+b+c+d+e+f for a,b,c,d,e,f in zip(y_m_a,y_m_b,y_m_c,y_m_d,y_m_e,y_m_f)]\n",
    "\n",
    "func.plot_1(x=x_m,\n",
    "          y=y_m,\n",
    "          size=(12,6),\n",
    "          save='si',\n",
    "          name_file='Sol_deSeptiembre_meses',\n",
    "          color='red',\n",
    "          title='Generación',\n",
    "          x_label='Tiempo [Meses]',\n",
    "          y_label='Potencia acumulada [kw/h]')"
   ]
  },
  {
   "cell_type": "code",
   "execution_count": null,
   "id": "6b9fd099",
   "metadata": {},
   "outputs": [],
   "source": []
  },
  {
   "cell_type": "code",
   "execution_count": null,
   "id": "28cc59d8",
   "metadata": {
    "scrolled": true
   },
   "outputs": [],
   "source": [
    "textos_modulos = ['JA','320',''] # tienen que ser 3 textos\n",
    "textos_inversores = ['SMA','2000',''] # tiene que ser 3 textos\n",
    "c = func.buscador(textos_inversores,textos_modulos)\n",
    "\n",
    "for a in c:\n",
    "    print(a,\":\\n\")\n",
    "    for i in c[a]:\n",
    "        print(i)"
   ]
  },
  {
   "cell_type": "code",
   "execution_count": null,
   "id": "40eac276",
   "metadata": {},
   "outputs": [],
   "source": [
    "pvlib.pvsystem.retrieve_sam('cecMod').JA_Solar_JAP72S01_320_SC\n"
   ]
  },
  {
   "cell_type": "code",
   "execution_count": null,
   "id": "56b45d65",
   "metadata": {},
   "outputs": [],
   "source": [
    "pvlib.pvsystem.retrieve_sam('sandiainverter').SMA_America__SWR1800U__120V_\n",
    "pvlib.pvsystem.retrieve_sam('sandiainverter').SMA_America__SB2000HFUS_30__240V_\n",
    "\n",
    "\n"
   ]
  },
  {
   "cell_type": "code",
   "execution_count": null,
   "id": "40deee4f",
   "metadata": {},
   "outputs": [],
   "source": []
  },
  {
   "cell_type": "code",
   "execution_count": null,
   "id": "6f216589",
   "metadata": {},
   "outputs": [],
   "source": []
  }
 ],
 "metadata": {
  "kernelspec": {
   "display_name": "Python 3 (ipykernel)",
   "language": "python",
   "name": "python3"
  },
  "language_info": {
   "codemirror_mode": {
    "name": "ipython",
    "version": 3
   },
   "file_extension": ".py",
   "mimetype": "text/x-python",
   "name": "python",
   "nbconvert_exporter": "python",
   "pygments_lexer": "ipython3",
   "version": "3.9.7"
  }
 },
 "nbformat": 4,
 "nbformat_minor": 5
}
