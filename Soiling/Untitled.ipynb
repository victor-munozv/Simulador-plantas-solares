{
 "cells": [
  {
   "cell_type": "code",
   "execution_count": 5,
   "id": "babf527f",
   "metadata": {},
   "outputs": [
    {
     "name": "stdout",
     "output_type": "stream",
     "text": [
      "/Users/nicolasotarolateillier/miniconda3/envs/simulador/lib/python3.8/site-packages/pvlib/data\n",
      "                     rain     PM2_5      PM10\n",
      "TimeStamp                                    \n",
      "2015-01-01 00:00:00     0  0.000387  0.000100\n",
      "2015-01-01 01:00:00     0  0.000448  0.000049\n",
      "2015-01-01 02:00:00     0  0.000077  0.000048\n",
      "2015-01-01 03:00:00     0  0.000071  0.000032\n",
      "2015-01-01 04:00:00     0  0.000087  0.000035\n",
      "...                   ...       ...       ...\n",
      "2015-12-31 19:00:00     0  0.000021  0.000041\n",
      "2015-12-31 20:00:00     0  0.000021  0.000074\n",
      "2015-12-31 21:00:00     0  0.000021  0.000041\n",
      "2015-12-31 22:00:00     0  0.000021  0.000054\n",
      "2015-12-31 23:00:00     0  0.000021  0.000043\n",
      "\n",
      "[8760 rows x 3 columns]\n"
     ]
    }
   ],
   "source": [
    "import pathlib\n",
    "from matplotlib import pyplot as plt\n",
    "from pvlib import soiling\n",
    "import pvlib\n",
    "import pandas as pd\n",
    "\n",
    "# get full path to the data directory\n",
    "DATA_DIR = pathlib.Path(pvlib.__file__).parent / 'data'\n",
    "print(DATA_DIR)\n",
    "\n",
    "# read rainfall, PM2.5, and PM10 data from file\n",
    "imperial_county = pd.read_csv(DATA_DIR / 'soiling_hsu_example_inputs.csv',\n",
    "                              index_col=0, parse_dates=True)\n",
    "print(imperial_county)\n",
    "rainfall = imperial_county['rain']\n",
    "depo_veloc = {'2_5': 0.0009, '10': 0.004}  # default values from [1] (m/s)\n",
    "rain_accum_period = pd.Timedelta('1h')     # default\n",
    "cleaning_threshold = 0.5\n",
    "tilt = 30\n",
    "pm2_5 = imperial_county['PM2_5'].values\n",
    "pm10 = imperial_county['PM10'].values\n",
    "# run the hsu soiling model\n",
    "soiling_ratio = soiling.hsu(rainfall, cleaning_threshold, tilt, pm2_5, pm10,\n",
    "                            depo_veloc=depo_veloc,\n",
    "                            rain_accum_period=rain_accum_period)"
   ]
  },
  {
   "cell_type": "code",
   "execution_count": 2,
   "id": "3023eb0d",
   "metadata": {},
   "outputs": [
    {
     "name": "stderr",
     "output_type": "stream",
     "text": [
      "/var/folders/v2/y6drgmqj4sn0q6c_zhksnv1c0000gn/T/ipykernel_21313/4009729498.py:18: UserWarning: Matplotlib is currently using module://matplotlib_inline.backend_inline, which is a non-GUI backend, so cannot show the figure.\n",
      "  fig.show()\n"
     ]
    },
    {
     "data": {
      "image/png": "[encoded data removed]",
      "text/plain": [
       "<Figure size 576x144 with 2 Axes>"
      ]
     },
     "metadata": {
      "needs_background": "light"
     },
     "output_type": "display_data"
    }
   ],
   "source": [
    "daily_soiling_ratio = soiling_ratio.resample('d').mean()\n",
    "fig, ax1 = plt.subplots(figsize=(8, 2))\n",
    "ax1.plot(daily_soiling_ratio.index, daily_soiling_ratio, marker='.',\n",
    "         c='r', label='hsu function output')\n",
    "ax1.set_ylabel('Daily Soiling Ratio')\n",
    "ax1.set_ylim(0.79, 1.01)\n",
    "ax1.set_title('Imperial County TMY')\n",
    "ax1.legend(loc='center left')\n",
    "\n",
    "daily_rain = rainfall.resample('d').sum()\n",
    "ax2 = ax1.twinx()\n",
    "ax2.plot(daily_rain.index, daily_rain, marker='.',\n",
    "         c='c', label='daily rainfall')\n",
    "ax2.set_ylabel('Daily Rain (mm)')\n",
    "ax2.set_ylim(-10, 210)\n",
    "ax2.legend(loc='center right')\n",
    "fig.tight_layout()\n",
    "fig.show()"
   ]
  },
  {
   "cell_type": "code",
   "execution_count": null,
   "id": "5e012dd9",
   "metadata": {},
   "outputs": [],
   "source": []
  }
 ],
 "metadata": {
  "kernelspec": {
   "display_name": "Python 3 (ipykernel)",
   "language": "python",
   "name": "python3"
  },
  "language_info": {
   "codemirror_mode": {
    "name": "ipython",
    "version": 3
   },
   "file_extension": ".py",
   "mimetype": "text/x-python",
   "name": "python",
   "nbconvert_exporter": "python",
   "pygments_lexer": "ipython3",
   "version": "3.8.12"
  }
 },
 "nbformat": 4,
 "nbformat_minor": 5
}
