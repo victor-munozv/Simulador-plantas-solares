{
 "cells": [
  {
   "cell_type": "markdown",
   "id": "e042c312",
   "metadata": {},
   "source": [
    "# Simulator PV and unavaibility \n",
    "\n",
    "- Author: Victor Muñoz\n",
    "- Collaborator: Nicolás Otárola\n",
    "- Pvlib_version: 0.9.0\n",
    "- Date : 07-08-2022 "
   ]
  },
  {
   "cell_type": "code",
   "execution_count": 28,
   "id": "0a47f898",
   "metadata": {
    "scrolled": true
   },
   "outputs": [],
   "source": [
    "# data science\n",
    "import numpy as np\n",
    "import pandas as pd\n",
    "import matplotlib.pyplot as plt\n",
    "\n",
    "# paths\n",
    "file_path_gen = '../../Data/Real_Generations_Data/'\n",
    "file_path_func = '../../Functions/'\n",
    "\n",
    "# functions AND system photovoltaic\n",
    "import sys\n",
    "sys.path.append(file_path_gen)\n",
    "sys.path.append(file_path_func)\n",
    "\n",
    "import functions as func\n",
    "import imp\n",
    "imp.reload(func)\n",
    "\n",
    "# save graphics\n",
    "%matplotlib inline\n",
    "%matplotlib notebook\n",
    "\n",
    "import bokeh as boken\n",
    "from bokeh.plotting import figure, output_file, show\n",
    "import bokeh.palettes as bkpalet #from bokeh.palettes import PuOr\n",
    "import bokeh.transform as bktrans # from bokeh.transform import cumsums"
   ]
  },
  {
   "cell_type": "markdown",
   "id": "ef386917",
   "metadata": {},
   "source": [
    "## 1) Data_real"
   ]
  },
  {
   "cell_type": "code",
   "execution_count": null,
   "id": "10aa948c",
   "metadata": {},
   "outputs": [
    {
     "name": "stdout",
     "output_type": "stream",
     "text": [
      "- Tried to read file picke: ../../Data/Real_Generations_Data/Real_Generations.pickle\n",
      "ERROR1: pickle NOT found in path: ../../Data/Real_Generations_Data/Real_Generations.pickle\n",
      "- Tried to read file: ../../Data/Real_Generations_Data/Real_Generations.xlsx\n"
     ]
    }
   ],
   "source": [
    "# read pickle\n",
    "file_name = 'Real_Generations'\n",
    "file_ext = 'xlsx'\n",
    "data_pickle = func.data_to_pickle(file_path_gen,file_name,file_ext)"
   ]
  },
  {
   "cell_type": "code",
   "execution_count": null,
   "id": "82ebc330",
   "metadata": {},
   "outputs": [],
   "source": []
  }
 ],
 "metadata": {
  "kernelspec": {
   "display_name": "Python 3 (ipykernel)",
   "language": "python",
   "name": "python3"
  },
  "language_info": {
   "codemirror_mode": {
    "name": "ipython",
    "version": 3
   },
   "file_extension": ".py",
   "mimetype": "text/x-python",
   "name": "python",
   "nbconvert_exporter": "python",
   "pygments_lexer": "ipython3",
   "version": "3.10.4"
  }
 },
 "nbformat": 4,
 "nbformat_minor": 5
}
